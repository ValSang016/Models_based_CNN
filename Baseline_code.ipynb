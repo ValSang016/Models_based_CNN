{
 "cells": [
  {
   "cell_type": "code",
   "execution_count": 1,
   "metadata": {},
   "outputs": [
    {
     "name": "stdout",
     "output_type": "stream",
     "text": [
      "cuda\n"
     ]
    }
   ],
   "source": [
    "import os \n",
    "import time\n",
    "from tqdm import tqdm\n",
    "\n",
    "import torch\n",
    "import torchvision.transforms as transforms\n",
    "import torchvision.models as models\n",
    "from torch.utils.data import Dataset, DataLoader\n",
    "\n",
    "import torch.optim as optim\n",
    "import torch.nn as nn\n",
    "import torch.nn.functional as F\n",
    "\n",
    "import wandb\n",
    "\n",
    "from PIL import Image\n",
    "\n",
    "## GPU Setting ###\n",
    "USE_CUDA = torch.cuda.is_available()\n",
    "DEVICE = torch.device(\"cuda\" if USE_CUDA else \"cpu\")\n",
    "print(DEVICE)"
   ]
  },
  {
   "cell_type": "code",
   "execution_count": 2,
   "metadata": {},
   "outputs": [],
   "source": [
    "#pip install wandb"
   ]
  },
  {
   "cell_type": "code",
   "execution_count": 3,
   "metadata": {},
   "outputs": [
    {
     "data": {
      "text/plain": [
       "'/home/jovyan'"
      ]
     },
     "execution_count": 3,
     "metadata": {},
     "output_type": "execute_result"
    }
   ],
   "source": [
    "os.getcwd()"
   ]
  },
  {
   "cell_type": "code",
   "execution_count": 4,
   "metadata": {},
   "outputs": [],
   "source": [
    "### Custom Dataset ###\n",
    "class CUB2011(Dataset):\n",
    "    def __init__(self, transform, mode='train'):\n",
    "        self.transform = transform\n",
    "        self.mode = mode\n",
    "\n",
    "        if self.mode == 'train':\n",
    "            self.image_folder = os.listdir('datasets/train')\n",
    "        elif self.mode == 'valid':\n",
    "            self.image_folder = os.listdir('datasets/valid')\n",
    "        elif self.mode =='test':\n",
    "            self.image_folder = os.listdir('datasets/test')\n",
    "    \n",
    "    def __len__(self):\n",
    "        return len(self.image_folder)\n",
    "    \n",
    "    def __getitem__(self, idx):\n",
    "        img_path = self.image_folder[idx]\n",
    "        img = Image.open(os.path.join('datasets/', self.mode,img_path)).convert('RGB')\n",
    "        img = self.transform(img)\n",
    "\n",
    "        label = img_path.split('_')[-1].split('.')[0]\n",
    "        label = int(label)\n",
    "        return (img, label)\n",
    "\n",
    "transforms_train = transforms.Compose([transforms.Resize((448,448)),\n",
    "                                        transforms.ToTensor(),])\n",
    "\n",
    "transforms_valtest = transforms.Compose([transforms.Resize((448,448)),\n",
    "                                        transforms.ToTensor(),])"
   ]
  },
  {
   "cell_type": "code",
   "execution_count": 5,
   "metadata": {},
   "outputs": [
    {
     "name": "stdout",
     "output_type": "stream",
     "text": [
      "Num of each dataset :  2360 296 298\n"
     ]
    }
   ],
   "source": [
    "#Batch_size = 16\n",
    "\n",
    "train_set = CUB2011(mode = 'train',\n",
    "                    transform=transforms_train)\n",
    "val_set = CUB2011(mode = 'valid',\n",
    "                    transform=transforms_valtest)\n",
    "test_set = CUB2011(mode = 'test',\n",
    "                    transform=transforms_train)\n",
    "\n",
    "print(\"Num of each dataset : \", len(train_set), len(val_set), len(test_set))"
   ]
  },
  {
   "cell_type": "code",
   "execution_count": 6,
   "metadata": {},
   "outputs": [
    {
     "name": "stderr",
     "output_type": "stream",
     "text": [
      "/opt/conda/lib/python3.8/site-packages/torchvision/models/_utils.py:208: UserWarning: The parameter 'pretrained' is deprecated since 0.13 and may be removed in the future, please use 'weights' instead.\n",
      "  warnings.warn(\n",
      "/opt/conda/lib/python3.8/site-packages/torchvision/models/_utils.py:223: UserWarning: Arguments other than a weight enum or `None` for 'weights' are deprecated since 0.13 and may be removed in the future. The current behavior is equivalent to passing `weights=ResNet18_Weights.IMAGENET1K_V1`. You can also use `weights=ResNet18_Weights.DEFAULT` to get the most up-to-date weights.\n",
      "  warnings.warn(msg)\n"
     ]
    },
    {
     "name": "stdout",
     "output_type": "stream",
     "text": [
      "Created a learning model and optimizer\n"
     ]
    }
   ],
   "source": [
    "## Model / Optimizer ###\n",
    "#EPOCH = 30\n",
    "#lr = 0.1\n",
    "\n",
    "model = models.resnet18(pretrained = True)\n",
    "\n",
    "### Transfer Learning ###\n",
    "num_features = model.fc.in_features\n",
    "model.fc = nn.Linear(num_features, 50)\n",
    "model.to(DEVICE)\n",
    "\n",
    "print(\"Created a learning model and optimizer\")"
   ]
  },
  {
   "cell_type": "code",
   "execution_count": 7,
   "metadata": {},
   "outputs": [],
   "source": [
    "### Train / Evaluation ###\n",
    "def train(model, train_loader, optimizer, epoch):\n",
    "    model.train()\n",
    "    for i, (image,target) in enumerate (train_loader):\n",
    "        image, target = image.to(DEVICE), target.to(DEVICE)\n",
    "        output = model(image)\n",
    "        optimizer.zero_grad()\n",
    "        train_loss = F.cross_entropy(output, target).to(DEVICE)\n",
    "        \n",
    "        train_loss.backward() \n",
    "        optimizer.step()\n",
    "        \n",
    "        if i % 10 ==0:\n",
    "            print(f\"Train_Epoch : {epoch} [{i}/{len(train_loader)}]\\tLoss: {train_loss.item():.6f}\")\n",
    "            wandb.log({\"train_loss\": train_loss.item(), \"epoch\": epoch})\n",
    "    \n",
    "    return train_loss\n",
    "\n",
    "def evaluate(model, val_loader):\n",
    "    model.eval()\n",
    "    eval_loss = 0\n",
    "    correct = 0\n",
    "    with torch.no_grad():\n",
    "        for i, (image,target) in enumerate (val_loader):\n",
    "            image, target = image.to(DEVICE), target.to(DEVICE)\n",
    "            output = model(image)\n",
    "\n",
    "            eval_loss += F.cross_entropy(output,\n",
    "                                         target,reduction='sum').item()\n",
    "            pred = output.max(1, keepdim=True)[1]\n",
    "            correct += pred.eq(target.view_as(pred)).sum().item()\n",
    "    \n",
    "    eval_loss /= len(val_loader.dataset)\n",
    "    eval_accuracy = 100 * correct / len(val_loader.dataset)\n",
    "    \n",
    "    wandb.log({\"val_loss\": eval_loss, \"val_accuracy\": eval_accuracy})\n",
    "    return eval_loss, eval_accuracy"
   ]
  },
  {
   "cell_type": "code",
   "execution_count": 8,
   "metadata": {},
   "outputs": [
    {
     "name": "stderr",
     "output_type": "stream",
     "text": [
      "\u001b[34m\u001b[1mwandb\u001b[0m: Using wandb-core as the SDK backend. Please refer to https://wandb.me/wandb-core for more information.\n"
     ]
    },
    {
     "name": "stdout",
     "output_type": "stream",
     "text": [
      "Create sweep with ID: 6gkqh4mq\n",
      "Sweep URL: https://wandb.ai/empe8339-gachon-university/Active_Learning1/sweeps/6gkqh4mq\n"
     ]
    }
   ],
   "source": [
    "sweep_config = {\n",
    "    'name' : 'ActiveLearning 1',\n",
    "    'method': 'grid',\n",
    "    'metric': {\n",
    "        'name': 'val_accuracy',  # 최적화할 메트릭\n",
    "        'goal': 'maximize'  # 성능을 최대화하려는 목표\n",
    "    },\n",
    "    'parameters': {\n",
    "        'learning_rate': {\n",
    "            'values': [0.01, 0.001]  # 실험할 learning rate\n",
    "        },\n",
    "        'epochs': {\n",
    "            'values': [30,50]\n",
    "        },\n",
    "        'batch_size': {\n",
    "            'values': [16, 32]  # 실험할 배치 사이즈\n",
    "        },\n",
    "        'optimizer': {\n",
    "            'values': ['sgd', 'rmsprop', 'adam']  # 사용할 optimizer\n",
    "        }\n",
    "    }\n",
    "}\n",
    "\n",
    "# Sweep 생성\n",
    "sweep_id = wandb.sweep(sweep_config, project=\"Active_Learning1\")"
   ]
  },
  {
   "cell_type": "code",
   "execution_count": 9,
   "metadata": {},
   "outputs": [],
   "source": [
    "import wandb\n",
    "import time\n",
    "import torch.optim as optim\n",
    "from tqdm import tqdm\n",
    "import torch\n",
    "\n",
    "def train_sweep():\n",
    "    start = time.time()\n",
    "    best = 0\n",
    "    \n",
    "    # wandb 설정 시작\n",
    "    with wandb.init() as run:\n",
    "        config = wandb.config\n",
    "        \n",
    "        train_loader = DataLoader(train_set, batch_size=config.batch_size, shuffle=True)\n",
    "        val_loader = DataLoader(val_set, batch_size=config.batch_size, shuffle=False)\n",
    "        test_loader = DataLoader(test_set, batch_size=config.batch_size, shuffle=False)\n",
    "        \n",
    "        if config.optimizer == 'adam':\n",
    "            optimizer = optim.Adam(model.parameters(), lr=config.learning_rate)\n",
    "        elif config.optimizer == 'sgd':\n",
    "            optimizer = optim.SGD(model.parameters(), lr=config.learning_rate)\n",
    "        elif config.optimizer == 'rmsprop':\n",
    "            optimizer = optim.RMSprop(model.parameters(), lr=config.learning_rate)\n",
    "        \n",
    "        for epoch in tqdm(range(config.epochs), desc=\"Epochs\"):\n",
    "            epoch_start = time.time()\n",
    "            train_loss = train(model, train_loader, optimizer, epoch)\n",
    "            val_loss, val_accuracy = evaluate(model, val_loader)\n",
    "            epoch_end = time.time()\n",
    "            \n",
    "            # 각 에포크에 대한 Computation Time, Memory 사용량 기록\n",
    "            epoch_time = epoch_end - epoch_start\n",
    "            if torch.cuda.is_available():\n",
    "                memory_usage = torch.cuda.memory_allocated() / (1024 ** 3)  # GB 단위\n",
    "            else:\n",
    "                memory_usage = 0  # CPU 환경에서 사용할 경우\n",
    "            \n",
    "            # Save best Model\n",
    "            if val_accuracy > best:\n",
    "                best = val_accuracy\n",
    "                torch.save(model.state_dict(), f\"./Baseline/best_model_ActiveLearning#1.pth\")\n",
    "            \n",
    "            # wandb 로그 추가\n",
    "            wandb.log({\n",
    "                'epoch': epoch,\n",
    "                'train_loss': train_loss,\n",
    "                'val_loss': val_loss,\n",
    "                'val_accuracy': val_accuracy,\n",
    "                'epoch_time': epoch_time,  # Computation time\n",
    "                'memory_usage_GB': memory_usage,  # Memory usage\n",
    "            })\n",
    "\n",
    "            print(f\"[{epoch}] Validation Loss: {val_loss:.4f}, Accuracy: {val_accuracy:.4f}%, Epoch Time: {epoch_time:.2f}s, Memory Usage: {memory_usage:.2f}GB\")\n",
    "        \n",
    "        # Test 결과 기록\n",
    "        test_loss, test_accuracy = evaluate(model, test_loader)\n",
    "        wandb.log({\n",
    "            'test_loss': test_loss,\n",
    "            'test_accuracy': test_accuracy\n",
    "        })\n",
    "        \n",
    "        print(f\"[Final] Test Loss: {test_loss:.4f}, Accuracy: {test_accuracy:.4f}%\")\n",
    "        \n",
    "        end = time.time()\n",
    "        elapsed_time = end - start\n",
    "        print(f\"Elapsed Time: {int(elapsed_time / 3600)}h, {int((elapsed_time % 3600) / 60)}m, {int(elapsed_time % 60)}s\")"
   ]
  },
  {
   "cell_type": "code",
   "execution_count": null,
   "metadata": {},
   "outputs": [
    {
     "name": "stderr",
     "output_type": "stream",
     "text": [
      "\u001b[34m\u001b[1mwandb\u001b[0m: Agent Starting Run: nxnbddxt with config:\n",
      "\u001b[34m\u001b[1mwandb\u001b[0m: \tbatch_size: 16\n",
      "\u001b[34m\u001b[1mwandb\u001b[0m: \tepochs: 30\n",
      "\u001b[34m\u001b[1mwandb\u001b[0m: \tlearning_rate: 0.01\n",
      "\u001b[34m\u001b[1mwandb\u001b[0m: \toptimizer: sgd\n",
      "\u001b[34m\u001b[1mwandb\u001b[0m: Currently logged in as: \u001b[33mempe8339\u001b[0m (\u001b[33mempe8339-gachon-university\u001b[0m). Use \u001b[1m`wandb login --relogin`\u001b[0m to force relogin\n"
     ]
    },
    {
     "data": {
      "text/html": [
       "Tracking run with wandb version 0.18.5"
      ],
      "text/plain": [
       "<IPython.core.display.HTML object>"
      ]
     },
     "metadata": {},
     "output_type": "display_data"
    },
    {
     "data": {
      "text/html": [
       "Run data is saved locally in <code>/home/jovyan/wandb/run-20241101_201753-nxnbddxt</code>"
      ],
      "text/plain": [
       "<IPython.core.display.HTML object>"
      ]
     },
     "metadata": {},
     "output_type": "display_data"
    },
    {
     "data": {
      "text/html": [
       "Syncing run <strong><a href='https://wandb.ai/empe8339-gachon-university/Active_Learning1/runs/nxnbddxt' target=\"_blank\">elated-sweep-1</a></strong> to <a href='https://wandb.ai/empe8339-gachon-university/Active_Learning1' target=\"_blank\">Weights & Biases</a> (<a href='https://wandb.me/run' target=\"_blank\">docs</a>)<br/>Sweep page: <a href='https://wandb.ai/empe8339-gachon-university/Active_Learning1/sweeps/6gkqh4mq' target=\"_blank\">https://wandb.ai/empe8339-gachon-university/Active_Learning1/sweeps/6gkqh4mq</a>"
      ],
      "text/plain": [
       "<IPython.core.display.HTML object>"
      ]
     },
     "metadata": {},
     "output_type": "display_data"
    },
    {
     "data": {
      "text/html": [
       " View project at <a href='https://wandb.ai/empe8339-gachon-university/Active_Learning1' target=\"_blank\">https://wandb.ai/empe8339-gachon-university/Active_Learning1</a>"
      ],
      "text/plain": [
       "<IPython.core.display.HTML object>"
      ]
     },
     "metadata": {},
     "output_type": "display_data"
    },
    {
     "data": {
      "text/html": [
       " View sweep at <a href='https://wandb.ai/empe8339-gachon-university/Active_Learning1/sweeps/6gkqh4mq' target=\"_blank\">https://wandb.ai/empe8339-gachon-university/Active_Learning1/sweeps/6gkqh4mq</a>"
      ],
      "text/plain": [
       "<IPython.core.display.HTML object>"
      ]
     },
     "metadata": {},
     "output_type": "display_data"
    },
    {
     "data": {
      "text/html": [
       " View run at <a href='https://wandb.ai/empe8339-gachon-university/Active_Learning1/runs/nxnbddxt' target=\"_blank\">https://wandb.ai/empe8339-gachon-university/Active_Learning1/runs/nxnbddxt</a>"
      ],
      "text/plain": [
       "<IPython.core.display.HTML object>"
      ]
     },
     "metadata": {},
     "output_type": "display_data"
    },
    {
     "name": "stderr",
     "output_type": "stream",
     "text": [
      "Epochs:   0%|          | 0/30 [00:00<?, ?it/s]"
     ]
    },
    {
     "name": "stdout",
     "output_type": "stream",
     "text": [
      "Train_Epoch : 0 [0/148]\tLoss: 4.094913\n",
      "Train_Epoch : 0 [10/148]\tLoss: 3.971720\n",
      "Train_Epoch : 0 [20/148]\tLoss: 3.751534\n",
      "Train_Epoch : 0 [30/148]\tLoss: 3.870359\n",
      "Train_Epoch : 0 [40/148]\tLoss: 3.634727\n",
      "Train_Epoch : 0 [50/148]\tLoss: 3.701867\n",
      "Train_Epoch : 0 [60/148]\tLoss: 3.673403\n",
      "Train_Epoch : 0 [70/148]\tLoss: 3.634569\n",
      "Train_Epoch : 0 [80/148]\tLoss: 3.667145\n",
      "Train_Epoch : 0 [90/148]\tLoss: 3.251186\n",
      "Train_Epoch : 0 [100/148]\tLoss: 3.569783\n",
      "Train_Epoch : 0 [110/148]\tLoss: 2.978935\n",
      "Train_Epoch : 0 [120/148]\tLoss: 3.100534\n",
      "Train_Epoch : 0 [130/148]\tLoss: 2.903442\n",
      "Train_Epoch : 0 [140/148]\tLoss: 3.016335\n"
     ]
    },
    {
     "name": "stderr",
     "output_type": "stream",
     "text": [
      "Epochs:   3%|▎         | 1/30 [00:31<15:25, 31.93s/it]"
     ]
    },
    {
     "name": "stdout",
     "output_type": "stream",
     "text": [
      "[0] Validation Loss: 2.8683, Accuracy: 30.4054%, Epoch Time: 31.67s, Memory Usage: 0.08GB\n",
      "Train_Epoch : 1 [0/148]\tLoss: 2.666859\n",
      "Train_Epoch : 1 [10/148]\tLoss: 2.461011\n",
      "Train_Epoch : 1 [20/148]\tLoss: 2.824320\n",
      "Train_Epoch : 1 [30/148]\tLoss: 2.840235\n",
      "Train_Epoch : 1 [40/148]\tLoss: 2.606328\n",
      "Train_Epoch : 1 [50/148]\tLoss: 2.162285\n",
      "Train_Epoch : 1 [60/148]\tLoss: 2.185476\n",
      "Train_Epoch : 1 [70/148]\tLoss: 2.708738\n",
      "Train_Epoch : 1 [80/148]\tLoss: 2.075312\n",
      "Train_Epoch : 1 [90/148]\tLoss: 2.142694\n",
      "Train_Epoch : 1 [100/148]\tLoss: 2.190994\n",
      "Train_Epoch : 1 [110/148]\tLoss: 2.092141\n",
      "Train_Epoch : 1 [120/148]\tLoss: 1.840467\n",
      "Train_Epoch : 1 [130/148]\tLoss: 1.949438\n",
      "Train_Epoch : 1 [140/148]\tLoss: 1.917132\n"
     ]
    },
    {
     "name": "stderr",
     "output_type": "stream",
     "text": [
      "Epochs:   7%|▋         | 2/30 [01:01<14:19, 30.70s/it]"
     ]
    },
    {
     "name": "stdout",
     "output_type": "stream",
     "text": [
      "[1] Validation Loss: 1.8968, Accuracy: 64.5270%, Epoch Time: 29.74s, Memory Usage: 0.08GB\n",
      "Train_Epoch : 2 [0/148]\tLoss: 2.122859\n",
      "Train_Epoch : 2 [10/148]\tLoss: 1.599682\n",
      "Train_Epoch : 2 [20/148]\tLoss: 1.491711\n",
      "Train_Epoch : 2 [30/148]\tLoss: 1.875246\n",
      "Train_Epoch : 2 [40/148]\tLoss: 1.790403\n",
      "Train_Epoch : 2 [50/148]\tLoss: 1.750221\n",
      "Train_Epoch : 2 [60/148]\tLoss: 1.399759\n",
      "Train_Epoch : 2 [70/148]\tLoss: 1.398075\n",
      "Train_Epoch : 2 [80/148]\tLoss: 1.715932\n",
      "Train_Epoch : 2 [90/148]\tLoss: 1.582498\n",
      "Train_Epoch : 2 [100/148]\tLoss: 1.287367\n",
      "Train_Epoch : 2 [110/148]\tLoss: 1.493460\n",
      "Train_Epoch : 2 [120/148]\tLoss: 1.513924\n",
      "Train_Epoch : 2 [130/148]\tLoss: 1.394617\n",
      "Train_Epoch : 2 [140/148]\tLoss: 1.207591\n"
     ]
    },
    {
     "name": "stderr",
     "output_type": "stream",
     "text": [
      "Epochs:  10%|█         | 3/30 [01:31<13:33, 30.11s/it]"
     ]
    },
    {
     "name": "stdout",
     "output_type": "stream",
     "text": [
      "[2] Validation Loss: 1.3809, Accuracy: 73.9865%, Epoch Time: 29.30s, Memory Usage: 0.08GB\n",
      "Train_Epoch : 3 [0/148]\tLoss: 1.559817\n",
      "Train_Epoch : 3 [10/148]\tLoss: 1.094297\n",
      "Train_Epoch : 3 [20/148]\tLoss: 1.225696\n",
      "Train_Epoch : 3 [30/148]\tLoss: 1.085467\n",
      "Train_Epoch : 3 [40/148]\tLoss: 1.420637\n",
      "Train_Epoch : 3 [50/148]\tLoss: 1.202566\n",
      "Train_Epoch : 3 [60/148]\tLoss: 0.955919\n",
      "Train_Epoch : 3 [70/148]\tLoss: 0.931645\n",
      "Train_Epoch : 3 [80/148]\tLoss: 0.844752\n",
      "Train_Epoch : 3 [90/148]\tLoss: 1.228820\n",
      "Train_Epoch : 3 [100/148]\tLoss: 1.166608\n",
      "Train_Epoch : 3 [110/148]\tLoss: 1.129394\n",
      "Train_Epoch : 3 [120/148]\tLoss: 1.050886\n",
      "Train_Epoch : 3 [130/148]\tLoss: 1.291316\n",
      "Train_Epoch : 3 [140/148]\tLoss: 0.824845\n"
     ]
    },
    {
     "name": "stderr",
     "output_type": "stream",
     "text": [
      "Epochs:  13%|█▎        | 4/30 [02:00<12:58, 29.94s/it]"
     ]
    },
    {
     "name": "stdout",
     "output_type": "stream",
     "text": [
      "[3] Validation Loss: 1.0396, Accuracy: 79.7297%, Epoch Time: 29.58s, Memory Usage: 0.08GB\n",
      "Train_Epoch : 4 [0/148]\tLoss: 1.185964\n",
      "Train_Epoch : 4 [10/148]\tLoss: 1.073593\n",
      "Train_Epoch : 4 [20/148]\tLoss: 1.123714\n",
      "Train_Epoch : 4 [30/148]\tLoss: 1.024519\n",
      "Train_Epoch : 4 [40/148]\tLoss: 0.627253\n",
      "Train_Epoch : 4 [50/148]\tLoss: 0.782833\n",
      "Train_Epoch : 4 [60/148]\tLoss: 0.884942\n",
      "Train_Epoch : 4 [70/148]\tLoss: 0.886566\n",
      "Train_Epoch : 4 [80/148]\tLoss: 0.838447\n",
      "Train_Epoch : 4 [90/148]\tLoss: 0.839151\n",
      "Train_Epoch : 4 [100/148]\tLoss: 0.722793\n",
      "Train_Epoch : 4 [110/148]\tLoss: 0.793478\n",
      "Train_Epoch : 4 [120/148]\tLoss: 0.916316\n",
      "Train_Epoch : 4 [130/148]\tLoss: 0.852223\n",
      "Train_Epoch : 4 [140/148]\tLoss: 0.710107\n"
     ]
    },
    {
     "name": "stderr",
     "output_type": "stream",
     "text": [
      "Epochs:  17%|█▋        | 5/30 [02:30<12:27, 29.90s/it]"
     ]
    },
    {
     "name": "stdout",
     "output_type": "stream",
     "text": [
      "[4] Validation Loss: 0.8995, Accuracy: 83.1081%, Epoch Time: 29.71s, Memory Usage: 0.08GB\n",
      "Train_Epoch : 5 [0/148]\tLoss: 0.789008\n",
      "Train_Epoch : 5 [10/148]\tLoss: 0.674577\n",
      "Train_Epoch : 5 [20/148]\tLoss: 0.691628\n",
      "Train_Epoch : 5 [30/148]\tLoss: 0.765352\n",
      "Train_Epoch : 5 [40/148]\tLoss: 0.732148\n",
      "Train_Epoch : 5 [50/148]\tLoss: 0.536457\n",
      "Train_Epoch : 5 [60/148]\tLoss: 0.549448\n",
      "Train_Epoch : 5 [70/148]\tLoss: 0.566042\n",
      "Train_Epoch : 5 [80/148]\tLoss: 0.486202\n",
      "Train_Epoch : 5 [90/148]\tLoss: 0.691180\n",
      "Train_Epoch : 5 [100/148]\tLoss: 0.531428\n",
      "Train_Epoch : 5 [110/148]\tLoss: 0.497154\n",
      "Train_Epoch : 5 [120/148]\tLoss: 0.457676\n",
      "Train_Epoch : 5 [130/148]\tLoss: 0.700397\n",
      "Train_Epoch : 5 [140/148]\tLoss: 0.729341\n"
     ]
    },
    {
     "name": "stderr",
     "output_type": "stream",
     "text": [
      "Epochs:  20%|██        | 6/30 [03:00<11:53, 29.72s/it]"
     ]
    },
    {
     "name": "stdout",
     "output_type": "stream",
     "text": [
      "[5] Validation Loss: 0.7502, Accuracy: 83.7838%, Epoch Time: 29.28s, Memory Usage: 0.08GB\n",
      "Train_Epoch : 6 [0/148]\tLoss: 0.498112\n",
      "Train_Epoch : 6 [10/148]\tLoss: 0.667359\n",
      "Train_Epoch : 6 [20/148]\tLoss: 0.378884\n",
      "Train_Epoch : 6 [30/148]\tLoss: 0.546506\n",
      "Train_Epoch : 6 [40/148]\tLoss: 0.511852\n",
      "Train_Epoch : 6 [50/148]\tLoss: 0.574177\n",
      "Train_Epoch : 6 [60/148]\tLoss: 0.511162\n",
      "Train_Epoch : 6 [70/148]\tLoss: 0.245746\n",
      "Train_Epoch : 6 [80/148]\tLoss: 0.563884\n",
      "Train_Epoch : 6 [90/148]\tLoss: 0.461606\n",
      "Train_Epoch : 6 [100/148]\tLoss: 0.403944\n",
      "Train_Epoch : 6 [110/148]\tLoss: 0.348439\n",
      "Train_Epoch : 6 [120/148]\tLoss: 0.401131\n",
      "Train_Epoch : 6 [130/148]\tLoss: 0.318136\n",
      "Train_Epoch : 6 [140/148]\tLoss: 0.457220\n"
     ]
    },
    {
     "name": "stderr",
     "output_type": "stream",
     "text": [
      "Epochs:  23%|██▎       | 7/30 [03:29<11:23, 29.71s/it]"
     ]
    },
    {
     "name": "stdout",
     "output_type": "stream",
     "text": [
      "[6] Validation Loss: 0.6697, Accuracy: 85.8108%, Epoch Time: 29.56s, Memory Usage: 0.08GB\n",
      "Train_Epoch : 7 [0/148]\tLoss: 0.254021\n",
      "Train_Epoch : 7 [10/148]\tLoss: 0.405298\n",
      "Train_Epoch : 7 [20/148]\tLoss: 0.338208\n",
      "Train_Epoch : 7 [30/148]\tLoss: 0.490255\n",
      "Train_Epoch : 7 [40/148]\tLoss: 0.342159\n",
      "Train_Epoch : 7 [50/148]\tLoss: 0.620323\n",
      "Train_Epoch : 7 [60/148]\tLoss: 0.433506\n",
      "Train_Epoch : 7 [70/148]\tLoss: 0.591587\n",
      "Train_Epoch : 7 [80/148]\tLoss: 0.348449\n",
      "Train_Epoch : 7 [90/148]\tLoss: 0.251091\n",
      "Train_Epoch : 7 [100/148]\tLoss: 0.481951\n",
      "Train_Epoch : 7 [110/148]\tLoss: 0.353189\n",
      "Train_Epoch : 7 [120/148]\tLoss: 0.459204\n",
      "Train_Epoch : 7 [130/148]\tLoss: 0.339412\n",
      "Train_Epoch : 7 [140/148]\tLoss: 0.309107\n"
     ]
    },
    {
     "name": "stderr",
     "output_type": "stream",
     "text": [
      "Epochs:  27%|██▋       | 8/30 [03:59<10:52, 29.67s/it]"
     ]
    },
    {
     "name": "stdout",
     "output_type": "stream",
     "text": [
      "[7] Validation Loss: 0.5899, Accuracy: 87.5000%, Epoch Time: 29.49s, Memory Usage: 0.08GB\n",
      "Train_Epoch : 8 [0/148]\tLoss: 0.157039\n",
      "Train_Epoch : 8 [10/148]\tLoss: 0.309198\n",
      "Train_Epoch : 8 [20/148]\tLoss: 0.239050\n",
      "Train_Epoch : 8 [30/148]\tLoss: 0.225054\n",
      "Train_Epoch : 8 [40/148]\tLoss: 0.258259\n",
      "Train_Epoch : 8 [50/148]\tLoss: 0.160449\n",
      "Train_Epoch : 8 [60/148]\tLoss: 0.370024\n",
      "Train_Epoch : 8 [70/148]\tLoss: 0.222171\n",
      "Train_Epoch : 8 [80/148]\tLoss: 0.314095\n",
      "Train_Epoch : 8 [90/148]\tLoss: 0.473170\n",
      "Train_Epoch : 8 [100/148]\tLoss: 0.170103\n",
      "Train_Epoch : 8 [110/148]\tLoss: 0.215501\n",
      "Train_Epoch : 8 [120/148]\tLoss: 0.213251\n",
      "Train_Epoch : 8 [130/148]\tLoss: 0.330440\n",
      "Train_Epoch : 8 [140/148]\tLoss: 0.220735\n"
     ]
    },
    {
     "name": "stderr",
     "output_type": "stream",
     "text": [
      "Epochs:  30%|███       | 9/30 [04:28<10:22, 29.63s/it]"
     ]
    },
    {
     "name": "stdout",
     "output_type": "stream",
     "text": [
      "[8] Validation Loss: 0.5627, Accuracy: 87.1622%, Epoch Time: 29.53s, Memory Usage: 0.08GB\n",
      "Train_Epoch : 9 [0/148]\tLoss: 0.245276\n",
      "Train_Epoch : 9 [10/148]\tLoss: 0.272170\n",
      "Train_Epoch : 9 [20/148]\tLoss: 0.301403\n",
      "Train_Epoch : 9 [30/148]\tLoss: 0.124519\n",
      "Train_Epoch : 9 [40/148]\tLoss: 0.307992\n",
      "Train_Epoch : 9 [50/148]\tLoss: 0.213125\n",
      "Train_Epoch : 9 [60/148]\tLoss: 0.295482\n",
      "Train_Epoch : 9 [70/148]\tLoss: 0.240902\n",
      "Train_Epoch : 9 [80/148]\tLoss: 0.235923\n",
      "Train_Epoch : 9 [90/148]\tLoss: 0.241458\n",
      "Train_Epoch : 9 [100/148]\tLoss: 0.208466\n",
      "Train_Epoch : 9 [110/148]\tLoss: 0.312616\n",
      "Train_Epoch : 9 [120/148]\tLoss: 0.141371\n",
      "Train_Epoch : 9 [130/148]\tLoss: 0.218419\n",
      "Train_Epoch : 9 [140/148]\tLoss: 0.213817\n"
     ]
    },
    {
     "name": "stderr",
     "output_type": "stream",
     "text": [
      "Epochs:  33%|███▎      | 10/30 [04:58<09:52, 29.61s/it]"
     ]
    },
    {
     "name": "stdout",
     "output_type": "stream",
     "text": [
      "[9] Validation Loss: 0.5548, Accuracy: 88.1757%, Epoch Time: 29.45s, Memory Usage: 0.08GB\n",
      "Train_Epoch : 10 [0/148]\tLoss: 0.177189\n",
      "Train_Epoch : 10 [10/148]\tLoss: 0.293763\n",
      "Train_Epoch : 10 [20/148]\tLoss: 0.203267\n",
      "Train_Epoch : 10 [30/148]\tLoss: 0.165502\n",
      "Train_Epoch : 10 [40/148]\tLoss: 0.157375\n",
      "Train_Epoch : 10 [50/148]\tLoss: 0.108056\n",
      "Train_Epoch : 10 [60/148]\tLoss: 0.155273\n",
      "Train_Epoch : 10 [70/148]\tLoss: 0.103281\n",
      "Train_Epoch : 10 [80/148]\tLoss: 0.162661\n",
      "Train_Epoch : 10 [90/148]\tLoss: 0.175681\n",
      "Train_Epoch : 10 [100/148]\tLoss: 0.095970\n",
      "Train_Epoch : 10 [110/148]\tLoss: 0.130162\n",
      "Train_Epoch : 10 [120/148]\tLoss: 0.171058\n",
      "Train_Epoch : 10 [130/148]\tLoss: 0.161982\n",
      "Train_Epoch : 10 [140/148]\tLoss: 0.178136\n"
     ]
    },
    {
     "name": "stderr",
     "output_type": "stream",
     "text": [
      "Epochs:  37%|███▋      | 11/30 [05:28<09:23, 29.65s/it]"
     ]
    },
    {
     "name": "stdout",
     "output_type": "stream",
     "text": [
      "[10] Validation Loss: 0.4898, Accuracy: 89.5270%, Epoch Time: 29.64s, Memory Usage: 0.08GB\n",
      "Train_Epoch : 11 [0/148]\tLoss: 0.095610\n",
      "Train_Epoch : 11 [10/148]\tLoss: 0.173983\n",
      "Train_Epoch : 11 [20/148]\tLoss: 0.134356\n",
      "Train_Epoch : 11 [30/148]\tLoss: 0.094897\n",
      "Train_Epoch : 11 [40/148]\tLoss: 0.132586\n",
      "Train_Epoch : 11 [50/148]\tLoss: 0.176496\n",
      "Train_Epoch : 11 [60/148]\tLoss: 0.086886\n",
      "Train_Epoch : 11 [70/148]\tLoss: 0.134847\n",
      "Train_Epoch : 11 [80/148]\tLoss: 0.128774\n",
      "Train_Epoch : 11 [90/148]\tLoss: 0.146231\n",
      "Train_Epoch : 11 [100/148]\tLoss: 0.086541\n",
      "Train_Epoch : 11 [110/148]\tLoss: 0.226354\n",
      "Train_Epoch : 11 [120/148]\tLoss: 0.219916\n",
      "Train_Epoch : 11 [130/148]\tLoss: 0.074300\n",
      "Train_Epoch : 11 [140/148]\tLoss: 0.075182\n"
     ]
    },
    {
     "name": "stderr",
     "output_type": "stream",
     "text": [
      "Epochs:  40%|████      | 12/30 [05:57<08:52, 29.56s/it]"
     ]
    },
    {
     "name": "stdout",
     "output_type": "stream",
     "text": [
      "[11] Validation Loss: 0.4620, Accuracy: 88.5135%, Epoch Time: 29.36s, Memory Usage: 0.08GB\n",
      "Train_Epoch : 12 [0/148]\tLoss: 0.144172\n",
      "Train_Epoch : 12 [10/148]\tLoss: 0.109407\n",
      "Train_Epoch : 12 [20/148]\tLoss: 0.090726\n",
      "Train_Epoch : 12 [30/148]\tLoss: 0.133913\n",
      "Train_Epoch : 12 [40/148]\tLoss: 0.137197\n",
      "Train_Epoch : 12 [50/148]\tLoss: 0.145163\n",
      "Train_Epoch : 12 [60/148]\tLoss: 0.153197\n",
      "Train_Epoch : 12 [70/148]\tLoss: 0.133405\n",
      "Train_Epoch : 12 [80/148]\tLoss: 0.119247\n",
      "Train_Epoch : 12 [90/148]\tLoss: 0.129120\n",
      "Train_Epoch : 12 [100/148]\tLoss: 0.212968\n",
      "Train_Epoch : 12 [110/148]\tLoss: 0.115362\n",
      "Train_Epoch : 12 [120/148]\tLoss: 0.048514\n",
      "Train_Epoch : 12 [130/148]\tLoss: 0.113147\n",
      "Train_Epoch : 12 [140/148]\tLoss: 0.116471\n"
     ]
    },
    {
     "name": "stderr",
     "output_type": "stream",
     "text": [
      "Epochs:  43%|████▎     | 13/30 [06:27<08:23, 29.59s/it]"
     ]
    },
    {
     "name": "stdout",
     "output_type": "stream",
     "text": [
      "[12] Validation Loss: 0.4503, Accuracy: 88.8514%, Epoch Time: 29.67s, Memory Usage: 0.08GB\n",
      "Train_Epoch : 13 [0/148]\tLoss: 0.063014\n",
      "Train_Epoch : 13 [10/148]\tLoss: 0.121138\n",
      "Train_Epoch : 13 [20/148]\tLoss: 0.126362\n",
      "Train_Epoch : 13 [30/148]\tLoss: 0.141366\n",
      "Train_Epoch : 13 [40/148]\tLoss: 0.082385\n",
      "Train_Epoch : 13 [50/148]\tLoss: 0.102068\n",
      "Train_Epoch : 13 [60/148]\tLoss: 0.136566\n",
      "Train_Epoch : 13 [70/148]\tLoss: 0.108713\n",
      "Train_Epoch : 13 [80/148]\tLoss: 0.160286\n",
      "Train_Epoch : 13 [90/148]\tLoss: 0.086524\n",
      "Train_Epoch : 13 [100/148]\tLoss: 0.064681\n",
      "Train_Epoch : 13 [110/148]\tLoss: 0.118814\n",
      "Train_Epoch : 13 [120/148]\tLoss: 0.066027\n",
      "Train_Epoch : 13 [130/148]\tLoss: 0.086276\n",
      "Train_Epoch : 13 [140/148]\tLoss: 0.157071\n"
     ]
    },
    {
     "name": "stderr",
     "output_type": "stream",
     "text": [
      "Epochs:  47%|████▋     | 14/30 [06:56<07:53, 29.62s/it]"
     ]
    },
    {
     "name": "stdout",
     "output_type": "stream",
     "text": [
      "[13] Validation Loss: 0.4389, Accuracy: 89.5270%, Epoch Time: 29.69s, Memory Usage: 0.08GB\n",
      "Train_Epoch : 14 [0/148]\tLoss: 0.071556\n",
      "Train_Epoch : 14 [10/148]\tLoss: 0.078591\n",
      "Train_Epoch : 14 [20/148]\tLoss: 0.115507\n",
      "Train_Epoch : 14 [30/148]\tLoss: 0.115246\n",
      "Train_Epoch : 14 [40/148]\tLoss: 0.089306\n",
      "Train_Epoch : 14 [50/148]\tLoss: 0.079944\n",
      "Train_Epoch : 14 [60/148]\tLoss: 0.142109\n",
      "Train_Epoch : 14 [70/148]\tLoss: 0.068465\n",
      "Train_Epoch : 14 [80/148]\tLoss: 0.084752\n",
      "Train_Epoch : 14 [90/148]\tLoss: 0.212801\n",
      "Train_Epoch : 14 [100/148]\tLoss: 0.083670\n",
      "Train_Epoch : 14 [110/148]\tLoss: 0.086190\n",
      "Train_Epoch : 14 [120/148]\tLoss: 0.113779\n",
      "Train_Epoch : 14 [130/148]\tLoss: 0.102749\n",
      "Train_Epoch : 14 [140/148]\tLoss: 0.054252\n"
     ]
    },
    {
     "name": "stderr",
     "output_type": "stream",
     "text": [
      "Epochs:  50%|█████     | 15/30 [07:26<07:23, 29.58s/it]"
     ]
    },
    {
     "name": "stdout",
     "output_type": "stream",
     "text": [
      "[14] Validation Loss: 0.4195, Accuracy: 89.5270%, Epoch Time: 29.47s, Memory Usage: 0.08GB\n",
      "Train_Epoch : 15 [0/148]\tLoss: 0.090499\n",
      "Train_Epoch : 15 [10/148]\tLoss: 0.096667\n",
      "Train_Epoch : 15 [20/148]\tLoss: 0.084399\n",
      "Train_Epoch : 15 [30/148]\tLoss: 0.064204\n",
      "Train_Epoch : 15 [40/148]\tLoss: 0.093796\n",
      "Train_Epoch : 15 [50/148]\tLoss: 0.047190\n",
      "Train_Epoch : 15 [60/148]\tLoss: 0.063401\n",
      "Train_Epoch : 15 [70/148]\tLoss: 0.090179\n",
      "Train_Epoch : 15 [80/148]\tLoss: 0.066243\n",
      "Train_Epoch : 15 [90/148]\tLoss: 0.064929\n",
      "Train_Epoch : 15 [100/148]\tLoss: 0.074515\n",
      "Train_Epoch : 15 [110/148]\tLoss: 0.041605\n",
      "Train_Epoch : 15 [120/148]\tLoss: 0.131852\n",
      "Train_Epoch : 15 [130/148]\tLoss: 0.085498\n",
      "Train_Epoch : 15 [140/148]\tLoss: 0.077663\n"
     ]
    },
    {
     "name": "stderr",
     "output_type": "stream",
     "text": [
      "Epochs:  53%|█████▎    | 16/30 [07:55<06:54, 29.58s/it]"
     ]
    },
    {
     "name": "stdout",
     "output_type": "stream",
     "text": [
      "[15] Validation Loss: 0.4151, Accuracy: 90.5405%, Epoch Time: 29.49s, Memory Usage: 0.08GB\n",
      "Train_Epoch : 16 [0/148]\tLoss: 0.066884\n",
      "Train_Epoch : 16 [10/148]\tLoss: 0.065626\n",
      "Train_Epoch : 16 [20/148]\tLoss: 0.080390\n",
      "Train_Epoch : 16 [30/148]\tLoss: 0.058468\n",
      "Train_Epoch : 16 [40/148]\tLoss: 0.065599\n",
      "Train_Epoch : 16 [50/148]\tLoss: 0.042510\n",
      "Train_Epoch : 16 [60/148]\tLoss: 0.032562\n",
      "Train_Epoch : 16 [70/148]\tLoss: 0.069462\n",
      "Train_Epoch : 16 [80/148]\tLoss: 0.058800\n",
      "Train_Epoch : 16 [90/148]\tLoss: 0.053777\n",
      "Train_Epoch : 16 [100/148]\tLoss: 0.044350\n",
      "Train_Epoch : 16 [110/148]\tLoss: 0.060957\n",
      "Train_Epoch : 16 [120/148]\tLoss: 0.041953\n",
      "Train_Epoch : 16 [130/148]\tLoss: 0.034720\n",
      "Train_Epoch : 16 [140/148]\tLoss: 0.104798\n"
     ]
    },
    {
     "name": "stderr",
     "output_type": "stream",
     "text": [
      "Epochs:  57%|█████▋    | 17/30 [08:25<06:22, 29.42s/it]"
     ]
    },
    {
     "name": "stdout",
     "output_type": "stream",
     "text": [
      "[16] Validation Loss: 0.4121, Accuracy: 89.8649%, Epoch Time: 29.05s, Memory Usage: 0.08GB\n",
      "Train_Epoch : 17 [0/148]\tLoss: 0.076598\n",
      "Train_Epoch : 17 [10/148]\tLoss: 0.059510\n",
      "Train_Epoch : 17 [20/148]\tLoss: 0.087043\n",
      "Train_Epoch : 17 [30/148]\tLoss: 0.043767\n",
      "Train_Epoch : 17 [40/148]\tLoss: 0.042034\n",
      "Train_Epoch : 17 [50/148]\tLoss: 0.053781\n",
      "Train_Epoch : 17 [60/148]\tLoss: 0.036157\n",
      "Train_Epoch : 17 [70/148]\tLoss: 0.084355\n",
      "Train_Epoch : 17 [80/148]\tLoss: 0.095171\n",
      "Train_Epoch : 17 [90/148]\tLoss: 0.084731\n",
      "Train_Epoch : 17 [100/148]\tLoss: 0.041314\n",
      "Train_Epoch : 17 [110/148]\tLoss: 0.055674\n",
      "Train_Epoch : 17 [120/148]\tLoss: 0.049099\n",
      "Train_Epoch : 17 [130/148]\tLoss: 0.034513\n",
      "Train_Epoch : 17 [140/148]\tLoss: 0.024848\n"
     ]
    },
    {
     "name": "stderr",
     "output_type": "stream",
     "text": [
      "Epochs:  60%|██████    | 18/30 [08:54<05:53, 29.50s/it]"
     ]
    },
    {
     "name": "stdout",
     "output_type": "stream",
     "text": [
      "[17] Validation Loss: 0.4005, Accuracy: 91.5541%, Epoch Time: 29.55s, Memory Usage: 0.08GB\n",
      "Train_Epoch : 18 [0/148]\tLoss: 0.048571\n",
      "Train_Epoch : 18 [10/148]\tLoss: 0.048437\n",
      "Train_Epoch : 18 [20/148]\tLoss: 0.060529\n",
      "Train_Epoch : 18 [30/148]\tLoss: 0.028808\n",
      "Train_Epoch : 18 [40/148]\tLoss: 0.035441\n",
      "Train_Epoch : 18 [50/148]\tLoss: 0.031536\n",
      "Train_Epoch : 18 [60/148]\tLoss: 0.051063\n",
      "Train_Epoch : 18 [70/148]\tLoss: 0.039843\n",
      "Train_Epoch : 18 [80/148]\tLoss: 0.069525\n",
      "Train_Epoch : 18 [90/148]\tLoss: 0.030688\n",
      "Train_Epoch : 18 [100/148]\tLoss: 0.048509\n",
      "Train_Epoch : 18 [110/148]\tLoss: 0.054741\n",
      "Train_Epoch : 18 [120/148]\tLoss: 0.037127\n",
      "Train_Epoch : 18 [130/148]\tLoss: 0.055632\n",
      "Train_Epoch : 18 [140/148]\tLoss: 0.034621\n"
     ]
    },
    {
     "name": "stderr",
     "output_type": "stream",
     "text": [
      "Epochs:  63%|██████▎   | 19/30 [09:24<05:23, 29.45s/it]"
     ]
    },
    {
     "name": "stdout",
     "output_type": "stream",
     "text": [
      "[18] Validation Loss: 0.3907, Accuracy: 90.5405%, Epoch Time: 29.35s, Memory Usage: 0.08GB\n",
      "Train_Epoch : 19 [0/148]\tLoss: 0.096552\n",
      "Train_Epoch : 19 [10/148]\tLoss: 0.045816\n",
      "Train_Epoch : 19 [20/148]\tLoss: 0.044785\n",
      "Train_Epoch : 19 [30/148]\tLoss: 0.019680\n",
      "Train_Epoch : 19 [40/148]\tLoss: 0.061106\n",
      "Train_Epoch : 19 [50/148]\tLoss: 0.083915\n",
      "Train_Epoch : 19 [60/148]\tLoss: 0.040204\n",
      "Train_Epoch : 19 [70/148]\tLoss: 0.034805\n",
      "Train_Epoch : 19 [80/148]\tLoss: 0.026446\n",
      "Train_Epoch : 19 [90/148]\tLoss: 0.043724\n",
      "Train_Epoch : 19 [100/148]\tLoss: 0.054601\n",
      "Train_Epoch : 19 [110/148]\tLoss: 0.039308\n",
      "Train_Epoch : 19 [120/148]\tLoss: 0.027275\n",
      "Train_Epoch : 19 [130/148]\tLoss: 0.061862\n",
      "Train_Epoch : 19 [140/148]\tLoss: 0.039857\n"
     ]
    },
    {
     "name": "stderr",
     "output_type": "stream",
     "text": [
      "Epochs:  67%|██████▋   | 20/30 [09:53<04:53, 29.40s/it]"
     ]
    },
    {
     "name": "stdout",
     "output_type": "stream",
     "text": [
      "[19] Validation Loss: 0.4020, Accuracy: 90.2027%, Epoch Time: 29.24s, Memory Usage: 0.08GB\n",
      "Train_Epoch : 20 [0/148]\tLoss: 0.057789\n",
      "Train_Epoch : 20 [10/148]\tLoss: 0.071667\n",
      "Train_Epoch : 20 [20/148]\tLoss: 0.043808\n",
      "Train_Epoch : 20 [30/148]\tLoss: 0.050614\n",
      "Train_Epoch : 20 [40/148]\tLoss: 0.133635\n",
      "Train_Epoch : 20 [50/148]\tLoss: 0.021880\n",
      "Train_Epoch : 20 [60/148]\tLoss: 0.051240\n",
      "Train_Epoch : 20 [70/148]\tLoss: 0.038094\n",
      "Train_Epoch : 20 [80/148]\tLoss: 0.034320\n",
      "Train_Epoch : 20 [90/148]\tLoss: 0.023883\n",
      "Train_Epoch : 20 [100/148]\tLoss: 0.050027\n",
      "Train_Epoch : 20 [110/148]\tLoss: 0.021027\n",
      "Train_Epoch : 20 [120/148]\tLoss: 0.027390\n",
      "Train_Epoch : 20 [130/148]\tLoss: 0.094010\n",
      "Train_Epoch : 20 [140/148]\tLoss: 0.034128\n"
     ]
    },
    {
     "name": "stderr",
     "output_type": "stream",
     "text": [
      "Epochs:  70%|███████   | 21/30 [10:22<04:25, 29.46s/it]"
     ]
    },
    {
     "name": "stdout",
     "output_type": "stream",
     "text": [
      "[20] Validation Loss: 0.3838, Accuracy: 91.5541%, Epoch Time: 29.60s, Memory Usage: 0.08GB\n",
      "Train_Epoch : 21 [0/148]\tLoss: 0.038147\n",
      "Train_Epoch : 21 [10/148]\tLoss: 0.058070\n",
      "Train_Epoch : 21 [20/148]\tLoss: 0.033054\n",
      "Train_Epoch : 21 [30/148]\tLoss: 0.025559\n",
      "Train_Epoch : 21 [40/148]\tLoss: 0.025978\n",
      "Train_Epoch : 21 [50/148]\tLoss: 0.015089\n",
      "Train_Epoch : 21 [60/148]\tLoss: 0.028790\n",
      "Train_Epoch : 21 [70/148]\tLoss: 0.033004\n",
      "Train_Epoch : 21 [80/148]\tLoss: 0.034390\n",
      "Train_Epoch : 21 [90/148]\tLoss: 0.036051\n",
      "Train_Epoch : 21 [100/148]\tLoss: 0.020445\n",
      "Train_Epoch : 21 [110/148]\tLoss: 0.028177\n",
      "Train_Epoch : 21 [120/148]\tLoss: 0.040102\n",
      "Train_Epoch : 21 [130/148]\tLoss: 0.036379\n",
      "Train_Epoch : 21 [140/148]\tLoss: 0.022452\n"
     ]
    },
    {
     "name": "stderr",
     "output_type": "stream",
     "text": [
      "Epochs:  73%|███████▎  | 22/30 [10:52<03:55, 29.38s/it]"
     ]
    },
    {
     "name": "stdout",
     "output_type": "stream",
     "text": [
      "[21] Validation Loss: 0.3798, Accuracy: 91.2162%, Epoch Time: 29.20s, Memory Usage: 0.08GB\n",
      "Train_Epoch : 22 [0/148]\tLoss: 0.054007\n",
      "Train_Epoch : 22 [10/148]\tLoss: 0.030363\n",
      "Train_Epoch : 22 [20/148]\tLoss: 0.027850\n",
      "Train_Epoch : 22 [30/148]\tLoss: 0.033723\n",
      "Train_Epoch : 22 [40/148]\tLoss: 0.017268\n",
      "Train_Epoch : 22 [50/148]\tLoss: 0.049713\n",
      "Train_Epoch : 22 [60/148]\tLoss: 0.022320\n",
      "Train_Epoch : 22 [70/148]\tLoss: 0.037260\n",
      "Train_Epoch : 22 [80/148]\tLoss: 0.028365\n",
      "Train_Epoch : 22 [90/148]\tLoss: 0.013101\n",
      "Train_Epoch : 22 [100/148]\tLoss: 0.043342\n",
      "Train_Epoch : 22 [110/148]\tLoss: 0.024982\n",
      "Train_Epoch : 22 [120/148]\tLoss: 0.024117\n",
      "Train_Epoch : 22 [130/148]\tLoss: 0.049942\n",
      "Train_Epoch : 22 [140/148]\tLoss: 0.017211\n"
     ]
    },
    {
     "name": "stderr",
     "output_type": "stream",
     "text": [
      "Epochs:  77%|███████▋  | 23/30 [11:21<03:26, 29.47s/it]"
     ]
    },
    {
     "name": "stdout",
     "output_type": "stream",
     "text": [
      "[22] Validation Loss: 0.3805, Accuracy: 90.2027%, Epoch Time: 29.67s, Memory Usage: 0.08GB\n",
      "Train_Epoch : 23 [0/148]\tLoss: 0.039611\n",
      "Train_Epoch : 23 [10/148]\tLoss: 0.027143\n",
      "Train_Epoch : 23 [20/148]\tLoss: 0.036475\n",
      "Train_Epoch : 23 [30/148]\tLoss: 0.049870\n",
      "Train_Epoch : 23 [40/148]\tLoss: 0.042350\n",
      "Train_Epoch : 23 [50/148]\tLoss: 0.024895\n",
      "Train_Epoch : 23 [60/148]\tLoss: 0.033240\n",
      "Train_Epoch : 23 [70/148]\tLoss: 0.078619\n",
      "Train_Epoch : 23 [80/148]\tLoss: 0.024454\n",
      "Train_Epoch : 23 [90/148]\tLoss: 0.054610\n",
      "Train_Epoch : 23 [100/148]\tLoss: 0.022555\n",
      "Train_Epoch : 23 [110/148]\tLoss: 0.035319\n",
      "Train_Epoch : 23 [120/148]\tLoss: 0.016711\n",
      "Train_Epoch : 23 [130/148]\tLoss: 0.018849\n",
      "Train_Epoch : 23 [140/148]\tLoss: 0.044832\n"
     ]
    },
    {
     "name": "stderr",
     "output_type": "stream",
     "text": [
      "Epochs:  80%|████████  | 24/30 [11:51<02:56, 29.45s/it]"
     ]
    },
    {
     "name": "stdout",
     "output_type": "stream",
     "text": [
      "[23] Validation Loss: 0.3723, Accuracy: 90.5405%, Epoch Time: 29.39s, Memory Usage: 0.08GB\n",
      "Train_Epoch : 24 [0/148]\tLoss: 0.033347\n",
      "Train_Epoch : 24 [10/148]\tLoss: 0.021502\n",
      "Train_Epoch : 24 [20/148]\tLoss: 0.011642\n",
      "Train_Epoch : 24 [30/148]\tLoss: 0.034058\n",
      "Train_Epoch : 24 [40/148]\tLoss: 0.028633\n",
      "Train_Epoch : 24 [50/148]\tLoss: 0.024454\n",
      "Train_Epoch : 24 [60/148]\tLoss: 0.056004\n",
      "Train_Epoch : 24 [70/148]\tLoss: 0.035026\n",
      "Train_Epoch : 24 [80/148]\tLoss: 0.024264\n",
      "Train_Epoch : 24 [90/148]\tLoss: 0.029322\n",
      "Train_Epoch : 24 [100/148]\tLoss: 0.036777\n",
      "Train_Epoch : 24 [110/148]\tLoss: 0.028354\n",
      "Train_Epoch : 24 [120/148]\tLoss: 0.025716\n",
      "Train_Epoch : 24 [130/148]\tLoss: 0.033339\n",
      "Train_Epoch : 24 [140/148]\tLoss: 0.027732\n"
     ]
    },
    {
     "name": "stderr",
     "output_type": "stream",
     "text": [
      "Epochs:  83%|████████▎ | 25/30 [12:20<02:26, 29.38s/it]"
     ]
    },
    {
     "name": "stdout",
     "output_type": "stream",
     "text": [
      "[24] Validation Loss: 0.3695, Accuracy: 90.2027%, Epoch Time: 29.22s, Memory Usage: 0.08GB\n",
      "Train_Epoch : 25 [0/148]\tLoss: 0.018596\n",
      "Train_Epoch : 25 [10/148]\tLoss: 0.020007\n",
      "Train_Epoch : 25 [20/148]\tLoss: 0.031383\n",
      "Train_Epoch : 25 [30/148]\tLoss: 0.046727\n",
      "Train_Epoch : 25 [40/148]\tLoss: 0.028104\n",
      "Train_Epoch : 25 [50/148]\tLoss: 0.021839\n",
      "Train_Epoch : 25 [60/148]\tLoss: 0.022091\n",
      "Train_Epoch : 25 [70/148]\tLoss: 0.048855\n",
      "Train_Epoch : 25 [80/148]\tLoss: 0.032746\n",
      "Train_Epoch : 25 [90/148]\tLoss: 0.020104\n",
      "Train_Epoch : 25 [100/148]\tLoss: 0.032414\n",
      "Train_Epoch : 25 [110/148]\tLoss: 0.025495\n",
      "Train_Epoch : 25 [120/148]\tLoss: 0.028563\n",
      "Train_Epoch : 25 [130/148]\tLoss: 0.044654\n",
      "Train_Epoch : 25 [140/148]\tLoss: 0.037759\n"
     ]
    },
    {
     "name": "stderr",
     "output_type": "stream",
     "text": [
      "Epochs:  87%|████████▋ | 26/30 [12:49<01:57, 29.34s/it]"
     ]
    },
    {
     "name": "stdout",
     "output_type": "stream",
     "text": [
      "[25] Validation Loss: 0.3696, Accuracy: 91.8919%, Epoch Time: 29.14s, Memory Usage: 0.08GB\n",
      "Train_Epoch : 26 [0/148]\tLoss: 0.028678\n",
      "Train_Epoch : 26 [10/148]\tLoss: 0.020918\n",
      "Train_Epoch : 26 [20/148]\tLoss: 0.016978\n",
      "Train_Epoch : 26 [30/148]\tLoss: 0.023936\n",
      "Train_Epoch : 26 [40/148]\tLoss: 0.025428\n",
      "Train_Epoch : 26 [50/148]\tLoss: 0.022017\n",
      "Train_Epoch : 26 [60/148]\tLoss: 0.018843\n",
      "Train_Epoch : 26 [70/148]\tLoss: 0.021500\n",
      "Train_Epoch : 26 [80/148]\tLoss: 0.018809\n",
      "Train_Epoch : 26 [90/148]\tLoss: 0.047064\n",
      "Train_Epoch : 26 [100/148]\tLoss: 0.025947\n",
      "Train_Epoch : 26 [110/148]\tLoss: 0.029685\n",
      "Train_Epoch : 26 [120/148]\tLoss: 0.015808\n",
      "Train_Epoch : 26 [130/148]\tLoss: 0.011300\n",
      "Train_Epoch : 26 [140/148]\tLoss: 0.024536\n"
     ]
    },
    {
     "name": "stderr",
     "output_type": "stream",
     "text": [
      "Epochs:  90%|█████████ | 27/30 [13:18<01:27, 29.29s/it]"
     ]
    },
    {
     "name": "stdout",
     "output_type": "stream",
     "text": [
      "[26] Validation Loss: 0.3737, Accuracy: 91.5541%, Epoch Time: 29.19s, Memory Usage: 0.08GB\n",
      "Train_Epoch : 27 [0/148]\tLoss: 0.045389\n",
      "Train_Epoch : 27 [10/148]\tLoss: 0.031253\n",
      "Train_Epoch : 27 [20/148]\tLoss: 0.020908\n",
      "Train_Epoch : 27 [30/148]\tLoss: 0.030619\n",
      "Train_Epoch : 27 [40/148]\tLoss: 0.037729\n",
      "Train_Epoch : 27 [50/148]\tLoss: 0.028076\n",
      "Train_Epoch : 27 [60/148]\tLoss: 0.039592\n",
      "Train_Epoch : 27 [70/148]\tLoss: 0.028639\n",
      "Train_Epoch : 27 [80/148]\tLoss: 0.022148\n",
      "Train_Epoch : 27 [90/148]\tLoss: 0.018344\n",
      "Train_Epoch : 27 [100/148]\tLoss: 0.033103\n",
      "Train_Epoch : 27 [110/148]\tLoss: 0.016891\n",
      "Train_Epoch : 27 [120/148]\tLoss: 0.033929\n",
      "Train_Epoch : 27 [130/148]\tLoss: 0.019571\n",
      "Train_Epoch : 27 [140/148]\tLoss: 0.013267\n"
     ]
    },
    {
     "name": "stderr",
     "output_type": "stream",
     "text": [
      "Epochs:  93%|█████████▎| 28/30 [13:48<00:58, 29.38s/it]"
     ]
    },
    {
     "name": "stdout",
     "output_type": "stream",
     "text": [
      "[27] Validation Loss: 0.3578, Accuracy: 91.5541%, Epoch Time: 29.58s, Memory Usage: 0.08GB\n",
      "Train_Epoch : 28 [0/148]\tLoss: 0.026345\n",
      "Train_Epoch : 28 [10/148]\tLoss: 0.025090\n",
      "Train_Epoch : 28 [20/148]\tLoss: 0.013611\n",
      "Train_Epoch : 28 [30/148]\tLoss: 0.023766\n",
      "Train_Epoch : 28 [40/148]\tLoss: 0.017337\n",
      "Train_Epoch : 28 [50/148]\tLoss: 0.030774\n",
      "Train_Epoch : 28 [60/148]\tLoss: 0.060598\n",
      "Train_Epoch : 28 [70/148]\tLoss: 0.014952\n",
      "Train_Epoch : 28 [80/148]\tLoss: 0.021755\n",
      "Train_Epoch : 28 [90/148]\tLoss: 0.023292\n",
      "Train_Epoch : 28 [100/148]\tLoss: 0.021027\n",
      "Train_Epoch : 28 [110/148]\tLoss: 0.019562\n",
      "Train_Epoch : 28 [120/148]\tLoss: 0.042068\n",
      "Train_Epoch : 28 [130/148]\tLoss: 0.012331\n",
      "Train_Epoch : 28 [140/148]\tLoss: 0.030317\n"
     ]
    },
    {
     "name": "stderr",
     "output_type": "stream",
     "text": [
      "Epochs:  97%|█████████▋| 29/30 [14:17<00:29, 29.36s/it]"
     ]
    },
    {
     "name": "stdout",
     "output_type": "stream",
     "text": [
      "[28] Validation Loss: 0.3724, Accuracy: 90.8784%, Epoch Time: 29.31s, Memory Usage: 0.08GB\n",
      "Train_Epoch : 29 [0/148]\tLoss: 0.021854\n",
      "Train_Epoch : 29 [10/148]\tLoss: 0.012915\n",
      "Train_Epoch : 29 [20/148]\tLoss: 0.028998\n",
      "Train_Epoch : 29 [30/148]\tLoss: 0.017710\n",
      "Train_Epoch : 29 [40/148]\tLoss: 0.015427\n",
      "Train_Epoch : 29 [50/148]\tLoss: 0.017973\n",
      "Train_Epoch : 29 [60/148]\tLoss: 0.017910\n",
      "Train_Epoch : 29 [70/148]\tLoss: 0.019303\n",
      "Train_Epoch : 29 [80/148]\tLoss: 0.021013\n",
      "Train_Epoch : 29 [90/148]\tLoss: 0.007656\n",
      "Train_Epoch : 29 [100/148]\tLoss: 0.021888\n",
      "Train_Epoch : 29 [110/148]\tLoss: 0.031036\n",
      "Train_Epoch : 29 [120/148]\tLoss: 0.018976\n",
      "Train_Epoch : 29 [130/148]\tLoss: 0.029012\n",
      "Train_Epoch : 29 [140/148]\tLoss: 0.012770\n"
     ]
    },
    {
     "name": "stderr",
     "output_type": "stream",
     "text": [
      "Epochs: 100%|██████████| 30/30 [14:47<00:00, 29.57s/it]"
     ]
    },
    {
     "name": "stdout",
     "output_type": "stream",
     "text": [
      "[29] Validation Loss: 0.3597, Accuracy: 91.5541%, Epoch Time: 29.45s, Memory Usage: 0.08GB\n"
     ]
    },
    {
     "name": "stderr",
     "output_type": "stream",
     "text": [
      "\n"
     ]
    },
    {
     "name": "stdout",
     "output_type": "stream",
     "text": [
      "[Final] Test Loss: 0.3916, Accuracy: 90.6040%\n",
      "Elapsed Time: 0h, 14m, 51s\n"
     ]
    },
    {
     "data": {
      "application/vnd.jupyter.widget-view+json": {
       "model_id": "",
       "version_major": 2,
       "version_minor": 0
      },
      "text/plain": [
       "VBox(children=(Label(value='0.027 MB of 0.027 MB uploaded\\r'), FloatProgress(value=1.0, max=1.0)))"
      ]
     },
     "metadata": {},
     "output_type": "display_data"
    },
    {
     "data": {
      "text/html": [
       "<style>\n",
       "    table.wandb td:nth-child(1) { padding: 0 10px; text-align: left ; width: auto;} td:nth-child(2) {text-align: left ; width: 100%}\n",
       "    .wandb-row { display: flex; flex-direction: row; flex-wrap: wrap; justify-content: flex-start; width: 100% }\n",
       "    .wandb-col { display: flex; flex-direction: column; flex-basis: 100%; flex: 1; padding: 10px; }\n",
       "    </style>\n",
       "<div class=\"wandb-row\"><div class=\"wandb-col\"><h3>Run history:</h3><br/><table class=\"wandb\"><tr><td>epoch</td><td>▁▁▁▁▂▂▃▃▃▃▃▄▄▄▄▅▅▅▅▅▅▅▅▆▆▆▆▆▆▆▇▇▇▇▇█████</td></tr><tr><td>epoch_time</td><td>█▃▂▂▃▂▂▂▂▂▃▂▃▃▂▂▁▂▂▁▂▁▃▂▁▁▁▂▂▂</td></tr><tr><td>memory_usage_GB</td><td>▁▁▁▁▁▁▁▁▁▁▁▁▁▁▁▁▁▁▁▁▁▁▁▁▁▁▁▁▁▁</td></tr><tr><td>test_accuracy</td><td>▁</td></tr><tr><td>test_loss</td><td>▁</td></tr><tr><td>train_loss</td><td>█▆▆▆▅▃▂▂▂▂▁▂▁▁▁▁▁▁▁▁▁▁▁▁▁▁▁▁▁▁▁▁▁▁▁▁▁▁▁▁</td></tr><tr><td>val_accuracy</td><td>▁▅▅▆▇▇▇▇▇█▇▇████████████████████████████</td></tr><tr><td>val_loss</td><td>██▄▄▃▃▃▂▂▂▂▂▂▂▂▁▁▁▁▁▁▁▁▁▁▁▁▁▁▁▁▁▁▁▁▁▁▁▁▁</td></tr></table><br/></div><div class=\"wandb-col\"><h3>Run summary:</h3><br/><table class=\"wandb\"><tr><td>epoch</td><td>29</td></tr><tr><td>epoch_time</td><td>29.44757</td></tr><tr><td>memory_usage_GB</td><td>0.08449</td></tr><tr><td>test_accuracy</td><td>90.60403</td></tr><tr><td>test_loss</td><td>0.39163</td></tr><tr><td>train_loss</td><td>0.08251</td></tr><tr><td>val_accuracy</td><td>90.60403</td></tr><tr><td>val_loss</td><td>0.39163</td></tr></table><br/></div></div>"
      ],
      "text/plain": [
       "<IPython.core.display.HTML object>"
      ]
     },
     "metadata": {},
     "output_type": "display_data"
    },
    {
     "data": {
      "text/html": [
       " View run <strong style=\"color:#cdcd00\">elated-sweep-1</strong> at: <a href='https://wandb.ai/empe8339-gachon-university/Active_Learning1/runs/nxnbddxt' target=\"_blank\">https://wandb.ai/empe8339-gachon-university/Active_Learning1/runs/nxnbddxt</a><br/> View project at: <a href='https://wandb.ai/empe8339-gachon-university/Active_Learning1' target=\"_blank\">https://wandb.ai/empe8339-gachon-university/Active_Learning1</a><br/>Synced 5 W&B file(s), 0 media file(s), 0 artifact file(s) and 0 other file(s)"
      ],
      "text/plain": [
       "<IPython.core.display.HTML object>"
      ]
     },
     "metadata": {},
     "output_type": "display_data"
    },
    {
     "data": {
      "text/html": [
       "Find logs at: <code>./wandb/run-20241101_201753-nxnbddxt/logs</code>"
      ],
      "text/plain": [
       "<IPython.core.display.HTML object>"
      ]
     },
     "metadata": {},
     "output_type": "display_data"
    },
    {
     "name": "stderr",
     "output_type": "stream",
     "text": [
      "\u001b[34m\u001b[1mwandb\u001b[0m: Agent Starting Run: 9vakmy0f with config:\n",
      "\u001b[34m\u001b[1mwandb\u001b[0m: \tbatch_size: 16\n",
      "\u001b[34m\u001b[1mwandb\u001b[0m: \tepochs: 30\n",
      "\u001b[34m\u001b[1mwandb\u001b[0m: \tlearning_rate: 0.01\n",
      "\u001b[34m\u001b[1mwandb\u001b[0m: \toptimizer: rmsprop\n"
     ]
    },
    {
     "data": {
      "text/html": [
       "Tracking run with wandb version 0.18.5"
      ],
      "text/plain": [
       "<IPython.core.display.HTML object>"
      ]
     },
     "metadata": {},
     "output_type": "display_data"
    },
    {
     "data": {
      "text/html": [
       "Run data is saved locally in <code>/home/jovyan/wandb/run-20241101_203249-9vakmy0f</code>"
      ],
      "text/plain": [
       "<IPython.core.display.HTML object>"
      ]
     },
     "metadata": {},
     "output_type": "display_data"
    },
    {
     "data": {
      "text/html": [
       "Syncing run <strong><a href='https://wandb.ai/empe8339-gachon-university/Active_Learning1/runs/9vakmy0f' target=\"_blank\">giddy-sweep-2</a></strong> to <a href='https://wandb.ai/empe8339-gachon-university/Active_Learning1' target=\"_blank\">Weights & Biases</a> (<a href='https://wandb.me/run' target=\"_blank\">docs</a>)<br/>Sweep page: <a href='https://wandb.ai/empe8339-gachon-university/Active_Learning1/sweeps/6gkqh4mq' target=\"_blank\">https://wandb.ai/empe8339-gachon-university/Active_Learning1/sweeps/6gkqh4mq</a>"
      ],
      "text/plain": [
       "<IPython.core.display.HTML object>"
      ]
     },
     "metadata": {},
     "output_type": "display_data"
    },
    {
     "data": {
      "text/html": [
       " View project at <a href='https://wandb.ai/empe8339-gachon-university/Active_Learning1' target=\"_blank\">https://wandb.ai/empe8339-gachon-university/Active_Learning1</a>"
      ],
      "text/plain": [
       "<IPython.core.display.HTML object>"
      ]
     },
     "metadata": {},
     "output_type": "display_data"
    },
    {
     "data": {
      "text/html": [
       " View sweep at <a href='https://wandb.ai/empe8339-gachon-university/Active_Learning1/sweeps/6gkqh4mq' target=\"_blank\">https://wandb.ai/empe8339-gachon-university/Active_Learning1/sweeps/6gkqh4mq</a>"
      ],
      "text/plain": [
       "<IPython.core.display.HTML object>"
      ]
     },
     "metadata": {},
     "output_type": "display_data"
    },
    {
     "data": {
      "text/html": [
       " View run at <a href='https://wandb.ai/empe8339-gachon-university/Active_Learning1/runs/9vakmy0f' target=\"_blank\">https://wandb.ai/empe8339-gachon-university/Active_Learning1/runs/9vakmy0f</a>"
      ],
      "text/plain": [
       "<IPython.core.display.HTML object>"
      ]
     },
     "metadata": {},
     "output_type": "display_data"
    },
    {
     "name": "stderr",
     "output_type": "stream",
     "text": [
      "Epochs:   0%|          | 0/30 [00:00<?, ?it/s]"
     ]
    },
    {
     "name": "stdout",
     "output_type": "stream",
     "text": [
      "Train_Epoch : 0 [0/148]\tLoss: 0.012408\n",
      "Train_Epoch : 0 [10/148]\tLoss: 4.032035\n",
      "Train_Epoch : 0 [20/148]\tLoss: 5.595557\n",
      "Train_Epoch : 0 [30/148]\tLoss: 5.026043\n",
      "Train_Epoch : 0 [40/148]\tLoss: 4.082108\n",
      "Train_Epoch : 0 [50/148]\tLoss: 5.091352\n",
      "Train_Epoch : 0 [60/148]\tLoss: 4.016531\n",
      "Train_Epoch : 0 [70/148]\tLoss: 4.148201\n",
      "Train_Epoch : 0 [80/148]\tLoss: 3.757898\n",
      "Train_Epoch : 0 [90/148]\tLoss: 3.998155\n",
      "Train_Epoch : 0 [100/148]\tLoss: 3.942722\n",
      "Train_Epoch : 0 [110/148]\tLoss: 3.850327\n",
      "Train_Epoch : 0 [120/148]\tLoss: 4.064412\n",
      "Train_Epoch : 0 [130/148]\tLoss: 3.917214\n",
      "Train_Epoch : 0 [140/148]\tLoss: 3.969843\n"
     ]
    },
    {
     "name": "stderr",
     "output_type": "stream",
     "text": [
      "Epochs:   3%|▎         | 1/30 [00:29<14:17, 29.58s/it]"
     ]
    },
    {
     "name": "stdout",
     "output_type": "stream",
     "text": [
      "[0] Validation Loss: 3.9022, Accuracy: 2.7027%, Epoch Time: 29.47s, Memory Usage: 0.13GB\n",
      "Train_Epoch : 1 [0/148]\tLoss: 3.941421\n",
      "Train_Epoch : 1 [10/148]\tLoss: 3.740233\n",
      "Train_Epoch : 1 [20/148]\tLoss: 3.714059\n",
      "Train_Epoch : 1 [30/148]\tLoss: 3.936445\n",
      "Train_Epoch : 1 [40/148]\tLoss: 3.925996\n",
      "Train_Epoch : 1 [50/148]\tLoss: 3.956627\n",
      "Train_Epoch : 1 [60/148]\tLoss: 3.918328\n",
      "Train_Epoch : 1 [70/148]\tLoss: 3.831472\n",
      "Train_Epoch : 1 [80/148]\tLoss: 3.810537\n",
      "Train_Epoch : 1 [90/148]\tLoss: 3.859778\n",
      "Train_Epoch : 1 [100/148]\tLoss: 3.940480\n",
      "Train_Epoch : 1 [110/148]\tLoss: 3.945127\n",
      "Train_Epoch : 1 [120/148]\tLoss: 3.982151\n",
      "Train_Epoch : 1 [130/148]\tLoss: 3.803891\n",
      "Train_Epoch : 1 [140/148]\tLoss: 3.673770\n"
     ]
    },
    {
     "name": "stderr",
     "output_type": "stream",
     "text": [
      "Epochs:   7%|▋         | 2/30 [00:59<13:51, 29.70s/it]"
     ]
    },
    {
     "name": "stdout",
     "output_type": "stream",
     "text": [
      "[1] Validation Loss: 3.8261, Accuracy: 4.0541%, Epoch Time: 29.68s, Memory Usage: 0.13GB\n",
      "Train_Epoch : 2 [0/148]\tLoss: 3.702167\n",
      "Train_Epoch : 2 [10/148]\tLoss: 3.635454\n",
      "Train_Epoch : 2 [20/148]\tLoss: 3.728916\n",
      "Train_Epoch : 2 [30/148]\tLoss: 3.802560\n",
      "Train_Epoch : 2 [40/148]\tLoss: 3.709216\n",
      "Train_Epoch : 2 [50/148]\tLoss: 3.892007\n",
      "Train_Epoch : 2 [60/148]\tLoss: 3.895832\n",
      "Train_Epoch : 2 [70/148]\tLoss: 3.963690\n",
      "Train_Epoch : 2 [80/148]\tLoss: 3.545920\n",
      "Train_Epoch : 2 [90/148]\tLoss: 3.853735\n",
      "Train_Epoch : 2 [100/148]\tLoss: 3.818499\n",
      "Train_Epoch : 2 [110/148]\tLoss: 3.764612\n",
      "Train_Epoch : 2 [120/148]\tLoss: 3.657887\n",
      "Train_Epoch : 2 [130/148]\tLoss: 3.927292\n",
      "Train_Epoch : 2 [140/148]\tLoss: 3.831087\n"
     ]
    },
    {
     "name": "stderr",
     "output_type": "stream",
     "text": [
      "Epochs:  10%|█         | 3/30 [01:28<13:19, 29.63s/it]"
     ]
    },
    {
     "name": "stdout",
     "output_type": "stream",
     "text": [
      "[2] Validation Loss: 3.7674, Accuracy: 3.3784%, Epoch Time: 29.53s, Memory Usage: 0.13GB\n",
      "Train_Epoch : 3 [0/148]\tLoss: 3.831746\n",
      "Train_Epoch : 3 [10/148]\tLoss: 3.682583\n",
      "Train_Epoch : 3 [20/148]\tLoss: 4.049559\n",
      "Train_Epoch : 3 [30/148]\tLoss: 3.709329\n",
      "Train_Epoch : 3 [40/148]\tLoss: 3.641793\n",
      "Train_Epoch : 3 [50/148]\tLoss: 3.796624\n",
      "Train_Epoch : 3 [60/148]\tLoss: 3.529165\n",
      "Train_Epoch : 3 [70/148]\tLoss: 3.639501\n",
      "Train_Epoch : 3 [80/148]\tLoss: 3.776546\n",
      "Train_Epoch : 3 [90/148]\tLoss: 3.941234\n",
      "Train_Epoch : 3 [100/148]\tLoss: 3.735232\n",
      "Train_Epoch : 3 [110/148]\tLoss: 3.916376\n",
      "Train_Epoch : 3 [120/148]\tLoss: 3.574465\n",
      "Train_Epoch : 3 [130/148]\tLoss: 3.545502\n",
      "Train_Epoch : 3 [140/148]\tLoss: 3.920677\n"
     ]
    },
    {
     "name": "stderr",
     "output_type": "stream",
     "text": [
      "Epochs:  13%|█▎        | 4/30 [01:58<12:53, 29.76s/it]"
     ]
    },
    {
     "name": "stdout",
     "output_type": "stream",
     "text": [
      "[3] Validation Loss: 3.8217, Accuracy: 5.7432%, Epoch Time: 29.85s, Memory Usage: 0.13GB\n",
      "Train_Epoch : 4 [0/148]\tLoss: 3.914977\n",
      "Train_Epoch : 4 [10/148]\tLoss: 3.538139\n",
      "Train_Epoch : 4 [20/148]\tLoss: 3.857397\n",
      "Train_Epoch : 4 [30/148]\tLoss: 3.940096\n",
      "Train_Epoch : 4 [40/148]\tLoss: 3.731695\n",
      "Train_Epoch : 4 [50/148]\tLoss: 3.658632\n",
      "Train_Epoch : 4 [60/148]\tLoss: 3.681199\n",
      "Train_Epoch : 4 [70/148]\tLoss: 3.674469\n",
      "Train_Epoch : 4 [80/148]\tLoss: 3.597015\n",
      "Train_Epoch : 4 [90/148]\tLoss: 3.567140\n",
      "Train_Epoch : 4 [100/148]\tLoss: 3.856964\n",
      "Train_Epoch : 4 [110/148]\tLoss: 3.636620\n",
      "Train_Epoch : 4 [120/148]\tLoss: 3.563773\n",
      "Train_Epoch : 4 [130/148]\tLoss: 3.678917\n",
      "Train_Epoch : 4 [140/148]\tLoss: 3.600274\n"
     ]
    },
    {
     "name": "stderr",
     "output_type": "stream",
     "text": [
      "Epochs:  17%|█▋        | 5/30 [02:28<12:21, 29.67s/it]"
     ]
    },
    {
     "name": "stdout",
     "output_type": "stream",
     "text": [
      "[4] Validation Loss: 3.7678, Accuracy: 4.3919%, Epoch Time: 29.50s, Memory Usage: 0.13GB\n",
      "Train_Epoch : 5 [0/148]\tLoss: 3.569639\n",
      "Train_Epoch : 5 [10/148]\tLoss: 3.825096\n",
      "Train_Epoch : 5 [20/148]\tLoss: 3.858448\n",
      "Train_Epoch : 5 [30/148]\tLoss: 3.793634\n",
      "Train_Epoch : 5 [40/148]\tLoss: 3.528803\n",
      "Train_Epoch : 5 [50/148]\tLoss: 3.589593\n",
      "Train_Epoch : 5 [60/148]\tLoss: 3.750873\n",
      "Train_Epoch : 5 [70/148]\tLoss: 3.289396\n",
      "Train_Epoch : 5 [80/148]\tLoss: 3.790982\n",
      "Train_Epoch : 5 [90/148]\tLoss: 3.768008\n",
      "Train_Epoch : 5 [100/148]\tLoss: 3.797807\n",
      "Train_Epoch : 5 [110/148]\tLoss: 3.771678\n",
      "Train_Epoch : 5 [120/148]\tLoss: 3.728523\n",
      "Train_Epoch : 5 [130/148]\tLoss: 3.454777\n",
      "Train_Epoch : 5 [140/148]\tLoss: 3.605273\n"
     ]
    },
    {
     "name": "stderr",
     "output_type": "stream",
     "text": [
      "Epochs:  20%|██        | 6/30 [02:57<11:51, 29.63s/it]"
     ]
    },
    {
     "name": "stdout",
     "output_type": "stream",
     "text": [
      "[5] Validation Loss: 3.8064, Accuracy: 6.0811%, Epoch Time: 29.46s, Memory Usage: 0.13GB\n",
      "Train_Epoch : 6 [0/148]\tLoss: 3.584099\n",
      "Train_Epoch : 6 [10/148]\tLoss: 3.515710\n",
      "Train_Epoch : 6 [20/148]\tLoss: 3.333041\n",
      "Train_Epoch : 6 [30/148]\tLoss: 4.058290\n",
      "Train_Epoch : 6 [40/148]\tLoss: 3.717414\n",
      "Train_Epoch : 6 [50/148]\tLoss: 4.123394\n",
      "Train_Epoch : 6 [60/148]\tLoss: 3.976021\n",
      "Train_Epoch : 6 [70/148]\tLoss: 3.744686\n",
      "Train_Epoch : 6 [80/148]\tLoss: 3.481056\n",
      "Train_Epoch : 6 [90/148]\tLoss: 3.304779\n",
      "Train_Epoch : 6 [100/148]\tLoss: 3.583376\n",
      "Train_Epoch : 6 [110/148]\tLoss: 3.486713\n",
      "Train_Epoch : 6 [120/148]\tLoss: 4.172766\n",
      "Train_Epoch : 6 [130/148]\tLoss: 3.678325\n",
      "Train_Epoch : 6 [140/148]\tLoss: 3.787711\n"
     ]
    },
    {
     "name": "stderr",
     "output_type": "stream",
     "text": [
      "Epochs:  23%|██▎       | 7/30 [03:27<11:20, 29.58s/it]"
     ]
    },
    {
     "name": "stdout",
     "output_type": "stream",
     "text": [
      "[6] Validation Loss: 3.8086, Accuracy: 5.7432%, Epoch Time: 29.47s, Memory Usage: 0.13GB\n",
      "Train_Epoch : 7 [0/148]\tLoss: 3.787151\n",
      "Train_Epoch : 7 [10/148]\tLoss: 3.575818\n",
      "Train_Epoch : 7 [20/148]\tLoss: 3.452202\n",
      "Train_Epoch : 7 [30/148]\tLoss: 3.517075\n",
      "Train_Epoch : 7 [40/148]\tLoss: 3.373820\n",
      "Train_Epoch : 7 [50/148]\tLoss: 3.561781\n",
      "Train_Epoch : 7 [60/148]\tLoss: 3.625409\n",
      "Train_Epoch : 7 [70/148]\tLoss: 3.437086\n",
      "Train_Epoch : 7 [80/148]\tLoss: 3.317388\n",
      "Train_Epoch : 7 [90/148]\tLoss: 3.638845\n",
      "Train_Epoch : 7 [100/148]\tLoss: 3.426739\n",
      "Train_Epoch : 7 [110/148]\tLoss: 3.383394\n",
      "Train_Epoch : 7 [120/148]\tLoss: 3.720340\n",
      "Train_Epoch : 7 [130/148]\tLoss: 3.617110\n",
      "Train_Epoch : 7 [140/148]\tLoss: 3.110738\n"
     ]
    },
    {
     "name": "stderr",
     "output_type": "stream",
     "text": [
      "Epochs:  27%|██▋       | 8/30 [03:56<10:50, 29.57s/it]"
     ]
    },
    {
     "name": "stdout",
     "output_type": "stream",
     "text": [
      "[7] Validation Loss: 3.5107, Accuracy: 7.7703%, Epoch Time: 29.42s, Memory Usage: 0.13GB\n",
      "Train_Epoch : 8 [0/148]\tLoss: 3.492025\n",
      "Train_Epoch : 8 [10/148]\tLoss: 3.509212\n",
      "Train_Epoch : 8 [20/148]\tLoss: 3.378627\n",
      "Train_Epoch : 8 [30/148]\tLoss: 3.451841\n",
      "Train_Epoch : 8 [40/148]\tLoss: 3.252228\n",
      "Train_Epoch : 8 [50/148]\tLoss: 3.490836\n",
      "Train_Epoch : 8 [60/148]\tLoss: 3.256022\n",
      "Train_Epoch : 8 [70/148]\tLoss: 3.698488\n",
      "Train_Epoch : 8 [80/148]\tLoss: 3.387758\n",
      "Train_Epoch : 8 [90/148]\tLoss: 3.439006\n",
      "Train_Epoch : 8 [100/148]\tLoss: 3.559813\n",
      "Train_Epoch : 8 [110/148]\tLoss: 3.527107\n",
      "Train_Epoch : 8 [120/148]\tLoss: 3.331430\n",
      "Train_Epoch : 8 [130/148]\tLoss: 3.633536\n",
      "Train_Epoch : 8 [140/148]\tLoss: 3.036527\n"
     ]
    },
    {
     "name": "stderr",
     "output_type": "stream",
     "text": [
      "Epochs:  30%|███       | 9/30 [04:26<10:19, 29.50s/it]"
     ]
    },
    {
     "name": "stdout",
     "output_type": "stream",
     "text": [
      "[8] Validation Loss: 3.8271, Accuracy: 6.0811%, Epoch Time: 29.35s, Memory Usage: 0.13GB\n",
      "Train_Epoch : 9 [0/148]\tLoss: 3.369084\n",
      "Train_Epoch : 9 [10/148]\tLoss: 3.461741\n",
      "Train_Epoch : 9 [20/148]\tLoss: 3.275492\n",
      "Train_Epoch : 9 [30/148]\tLoss: 3.463406\n",
      "Train_Epoch : 9 [40/148]\tLoss: 3.401315\n",
      "Train_Epoch : 9 [50/148]\tLoss: 3.535094\n",
      "Train_Epoch : 9 [60/148]\tLoss: 3.440922\n",
      "Train_Epoch : 9 [70/148]\tLoss: 3.515367\n",
      "Train_Epoch : 9 [80/148]\tLoss: 3.080686\n",
      "Train_Epoch : 9 [90/148]\tLoss: 3.021301\n",
      "Train_Epoch : 9 [100/148]\tLoss: 3.559068\n",
      "Train_Epoch : 9 [110/148]\tLoss: 3.257118\n",
      "Train_Epoch : 9 [120/148]\tLoss: 3.667560\n",
      "Train_Epoch : 9 [130/148]\tLoss: 3.708880\n",
      "Train_Epoch : 9 [140/148]\tLoss: 3.109850\n"
     ]
    },
    {
     "name": "stderr",
     "output_type": "stream",
     "text": [
      "Epochs:  33%|███▎      | 10/30 [04:55<09:49, 29.49s/it]"
     ]
    },
    {
     "name": "stdout",
     "output_type": "stream",
     "text": [
      "[9] Validation Loss: 3.5329, Accuracy: 10.4730%, Epoch Time: 29.36s, Memory Usage: 0.13GB\n",
      "Train_Epoch : 10 [0/148]\tLoss: 3.283324\n",
      "Train_Epoch : 10 [10/148]\tLoss: 3.277264\n",
      "Train_Epoch : 10 [20/148]\tLoss: 3.530690\n",
      "Train_Epoch : 10 [30/148]\tLoss: 3.583044\n",
      "Train_Epoch : 10 [40/148]\tLoss: 3.075053\n",
      "Train_Epoch : 10 [50/148]\tLoss: 3.057741\n",
      "Train_Epoch : 10 [60/148]\tLoss: 3.514735\n",
      "Train_Epoch : 10 [70/148]\tLoss: 3.429522\n",
      "Train_Epoch : 10 [80/148]\tLoss: 3.794081\n",
      "Train_Epoch : 10 [90/148]\tLoss: 3.134712\n",
      "Train_Epoch : 10 [100/148]\tLoss: 3.241558\n",
      "Train_Epoch : 10 [110/148]\tLoss: 2.701308\n",
      "Train_Epoch : 10 [120/148]\tLoss: 3.204271\n",
      "Train_Epoch : 10 [130/148]\tLoss: 3.403876\n",
      "Train_Epoch : 10 [140/148]\tLoss: 2.912916\n"
     ]
    },
    {
     "name": "stderr",
     "output_type": "stream",
     "text": [
      "Epochs:  37%|███▋      | 11/30 [05:25<09:20, 29.53s/it]"
     ]
    },
    {
     "name": "stdout",
     "output_type": "stream",
     "text": [
      "[10] Validation Loss: 3.2344, Accuracy: 15.8784%, Epoch Time: 29.50s, Memory Usage: 0.13GB\n",
      "Train_Epoch : 11 [0/148]\tLoss: 3.032269\n",
      "Train_Epoch : 11 [10/148]\tLoss: 3.347990\n",
      "Train_Epoch : 11 [20/148]\tLoss: 3.366611\n",
      "Train_Epoch : 11 [30/148]\tLoss: 3.366111\n",
      "Train_Epoch : 11 [40/148]\tLoss: 3.604416\n",
      "Train_Epoch : 11 [50/148]\tLoss: 3.221372\n",
      "Train_Epoch : 11 [60/148]\tLoss: 3.857250\n",
      "Train_Epoch : 11 [70/148]\tLoss: 3.069542\n",
      "Train_Epoch : 11 [80/148]\tLoss: 3.457674\n",
      "Train_Epoch : 11 [90/148]\tLoss: 2.685692\n",
      "Train_Epoch : 11 [100/148]\tLoss: 2.822392\n",
      "Train_Epoch : 11 [110/148]\tLoss: 3.907666\n",
      "Train_Epoch : 11 [120/148]\tLoss: 2.884787\n",
      "Train_Epoch : 11 [130/148]\tLoss: 3.072088\n",
      "Train_Epoch : 11 [140/148]\tLoss: 3.553319\n"
     ]
    },
    {
     "name": "stderr",
     "output_type": "stream",
     "text": [
      "Epochs:  40%|████      | 12/30 [05:55<08:52, 29.60s/it]"
     ]
    },
    {
     "name": "stdout",
     "output_type": "stream",
     "text": [
      "[11] Validation Loss: 3.1024, Accuracy: 16.8919%, Epoch Time: 29.68s, Memory Usage: 0.13GB\n",
      "Train_Epoch : 12 [0/148]\tLoss: 2.964198\n",
      "Train_Epoch : 12 [10/148]\tLoss: 2.889677\n",
      "Train_Epoch : 12 [20/148]\tLoss: 3.521480\n",
      "Train_Epoch : 12 [30/148]\tLoss: 2.550709\n",
      "Train_Epoch : 12 [40/148]\tLoss: 2.762986\n",
      "Train_Epoch : 12 [50/148]\tLoss: 2.689731\n",
      "Train_Epoch : 12 [60/148]\tLoss: 3.016857\n",
      "Train_Epoch : 12 [70/148]\tLoss: 3.616404\n",
      "Train_Epoch : 12 [80/148]\tLoss: 2.813640\n",
      "Train_Epoch : 12 [90/148]\tLoss: 2.719614\n",
      "Train_Epoch : 12 [100/148]\tLoss: 3.692638\n",
      "Train_Epoch : 12 [110/148]\tLoss: 2.659342\n",
      "Train_Epoch : 12 [120/148]\tLoss: 3.209661\n",
      "Train_Epoch : 12 [130/148]\tLoss: 3.577793\n",
      "Train_Epoch : 12 [140/148]\tLoss: 3.897170\n"
     ]
    },
    {
     "name": "stderr",
     "output_type": "stream",
     "text": [
      "Epochs:  43%|████▎     | 13/30 [06:24<08:23, 29.61s/it]"
     ]
    },
    {
     "name": "stdout",
     "output_type": "stream",
     "text": [
      "[12] Validation Loss: 3.4923, Accuracy: 14.5270%, Epoch Time: 29.63s, Memory Usage: 0.13GB\n",
      "Train_Epoch : 13 [0/148]\tLoss: 2.796074\n",
      "Train_Epoch : 13 [10/148]\tLoss: 2.999683\n",
      "Train_Epoch : 13 [20/148]\tLoss: 2.611178\n",
      "Train_Epoch : 13 [30/148]\tLoss: 3.105742\n",
      "Train_Epoch : 13 [40/148]\tLoss: 3.463952\n",
      "Train_Epoch : 13 [50/148]\tLoss: 3.130896\n",
      "Train_Epoch : 13 [60/148]\tLoss: 4.015213\n",
      "Train_Epoch : 13 [70/148]\tLoss: 2.816473\n",
      "Train_Epoch : 13 [80/148]\tLoss: 3.202012\n",
      "Train_Epoch : 13 [90/148]\tLoss: 2.678145\n",
      "Train_Epoch : 13 [100/148]\tLoss: 2.950105\n",
      "Train_Epoch : 13 [110/148]\tLoss: 3.025527\n",
      "Train_Epoch : 13 [120/148]\tLoss: 3.361138\n",
      "Train_Epoch : 13 [130/148]\tLoss: 3.047436\n",
      "Train_Epoch : 13 [140/148]\tLoss: 2.758498\n"
     ]
    },
    {
     "name": "stderr",
     "output_type": "stream",
     "text": [
      "Epochs:  47%|████▋     | 14/30 [06:54<07:53, 29.56s/it]"
     ]
    },
    {
     "name": "stdout",
     "output_type": "stream",
     "text": [
      "[13] Validation Loss: 3.2486, Accuracy: 11.8243%, Epoch Time: 29.45s, Memory Usage: 0.13GB\n",
      "Train_Epoch : 14 [0/148]\tLoss: 2.850463\n",
      "Train_Epoch : 14 [10/148]\tLoss: 3.039036\n",
      "Train_Epoch : 14 [20/148]\tLoss: 2.552303\n",
      "Train_Epoch : 14 [30/148]\tLoss: 2.889594\n",
      "Train_Epoch : 14 [40/148]\tLoss: 2.771546\n",
      "Train_Epoch : 14 [50/148]\tLoss: 3.052825\n",
      "Train_Epoch : 14 [60/148]\tLoss: 2.676119\n",
      "Train_Epoch : 14 [70/148]\tLoss: 3.065908\n",
      "Train_Epoch : 14 [80/148]\tLoss: 2.656845\n",
      "Train_Epoch : 14 [90/148]\tLoss: 3.283259\n",
      "Train_Epoch : 14 [100/148]\tLoss: 3.420554\n",
      "Train_Epoch : 14 [110/148]\tLoss: 3.680557\n",
      "Train_Epoch : 14 [120/148]\tLoss: 2.819761\n",
      "Train_Epoch : 14 [130/148]\tLoss: 2.698016\n",
      "Train_Epoch : 14 [140/148]\tLoss: 2.968123\n"
     ]
    },
    {
     "name": "stderr",
     "output_type": "stream",
     "text": [
      "Epochs:  50%|█████     | 15/30 [07:23<07:22, 29.52s/it]"
     ]
    },
    {
     "name": "stdout",
     "output_type": "stream",
     "text": [
      "[14] Validation Loss: 3.2820, Accuracy: 16.8919%, Epoch Time: 29.42s, Memory Usage: 0.13GB\n",
      "Train_Epoch : 15 [0/148]\tLoss: 2.331535\n",
      "Train_Epoch : 15 [10/148]\tLoss: 2.830841\n",
      "Train_Epoch : 15 [20/148]\tLoss: 1.991502\n",
      "Train_Epoch : 15 [30/148]\tLoss: 2.910758\n",
      "Train_Epoch : 15 [40/148]\tLoss: 2.687265\n",
      "Train_Epoch : 15 [50/148]\tLoss: 2.925597\n",
      "Train_Epoch : 15 [60/148]\tLoss: 3.211858\n",
      "Train_Epoch : 15 [70/148]\tLoss: 2.340305\n",
      "Train_Epoch : 15 [80/148]\tLoss: 2.271561\n",
      "Train_Epoch : 15 [90/148]\tLoss: 2.985099\n",
      "Train_Epoch : 15 [100/148]\tLoss: 2.462780\n",
      "Train_Epoch : 15 [110/148]\tLoss: 2.726146\n",
      "Train_Epoch : 15 [120/148]\tLoss: 1.922866\n",
      "Train_Epoch : 15 [130/148]\tLoss: 2.551014\n",
      "Train_Epoch : 15 [140/148]\tLoss: 2.684542\n"
     ]
    },
    {
     "name": "stderr",
     "output_type": "stream",
     "text": [
      "Epochs:  53%|█████▎    | 16/30 [07:53<06:53, 29.51s/it]"
     ]
    },
    {
     "name": "stdout",
     "output_type": "stream",
     "text": [
      "[15] Validation Loss: 2.8221, Accuracy: 25.3378%, Epoch Time: 29.38s, Memory Usage: 0.13GB\n",
      "Train_Epoch : 16 [0/148]\tLoss: 2.318240\n",
      "Train_Epoch : 16 [10/148]\tLoss: 2.644673\n",
      "Train_Epoch : 16 [20/148]\tLoss: 2.675217\n",
      "Train_Epoch : 16 [30/148]\tLoss: 2.540052\n",
      "Train_Epoch : 16 [40/148]\tLoss: 3.041646\n",
      "Train_Epoch : 16 [50/148]\tLoss: 3.082346\n",
      "Train_Epoch : 16 [60/148]\tLoss: 2.003470\n",
      "Train_Epoch : 16 [70/148]\tLoss: 2.436795\n",
      "Train_Epoch : 16 [80/148]\tLoss: 1.994891\n",
      "Train_Epoch : 16 [90/148]\tLoss: 2.592353\n",
      "Train_Epoch : 16 [100/148]\tLoss: 2.504908\n",
      "Train_Epoch : 16 [110/148]\tLoss: 2.518714\n",
      "Train_Epoch : 16 [120/148]\tLoss: 2.745134\n",
      "Train_Epoch : 16 [130/148]\tLoss: 2.499423\n",
      "Train_Epoch : 16 [140/148]\tLoss: 2.848854\n"
     ]
    },
    {
     "name": "stderr",
     "output_type": "stream",
     "text": [
      "Epochs:  57%|█████▋    | 17/30 [08:22<06:22, 29.43s/it]"
     ]
    },
    {
     "name": "stdout",
     "output_type": "stream",
     "text": [
      "[16] Validation Loss: 3.3048, Accuracy: 21.6216%, Epoch Time: 29.25s, Memory Usage: 0.13GB\n",
      "Train_Epoch : 17 [0/148]\tLoss: 2.224690\n",
      "Train_Epoch : 17 [10/148]\tLoss: 2.300042\n",
      "Train_Epoch : 17 [20/148]\tLoss: 2.362922\n",
      "Train_Epoch : 17 [30/148]\tLoss: 2.850649\n",
      "Train_Epoch : 17 [40/148]\tLoss: 3.128264\n",
      "Train_Epoch : 17 [50/148]\tLoss: 3.311487\n",
      "Train_Epoch : 17 [60/148]\tLoss: 2.857323\n",
      "Train_Epoch : 17 [70/148]\tLoss: 2.651851\n",
      "Train_Epoch : 17 [80/148]\tLoss: 2.107901\n",
      "Train_Epoch : 17 [90/148]\tLoss: 2.847204\n",
      "Train_Epoch : 17 [100/148]\tLoss: 1.958403\n",
      "Train_Epoch : 17 [110/148]\tLoss: 1.881175\n",
      "Train_Epoch : 17 [120/148]\tLoss: 2.670608\n",
      "Train_Epoch : 17 [130/148]\tLoss: 2.535692\n",
      "Train_Epoch : 17 [140/148]\tLoss: 2.671581\n"
     ]
    },
    {
     "name": "stderr",
     "output_type": "stream",
     "text": [
      "Epochs:  60%|██████    | 18/30 [08:52<05:53, 29.49s/it]"
     ]
    },
    {
     "name": "stdout",
     "output_type": "stream",
     "text": [
      "[17] Validation Loss: 3.2279, Accuracy: 22.2973%, Epoch Time: 29.61s, Memory Usage: 0.13GB\n",
      "Train_Epoch : 18 [0/148]\tLoss: 2.070664\n",
      "Train_Epoch : 18 [10/148]\tLoss: 2.247147\n",
      "Train_Epoch : 18 [20/148]\tLoss: 2.397854\n",
      "Train_Epoch : 18 [30/148]\tLoss: 2.652483\n",
      "Train_Epoch : 18 [40/148]\tLoss: 2.807689\n",
      "Train_Epoch : 18 [50/148]\tLoss: 2.327507\n",
      "Train_Epoch : 18 [60/148]\tLoss: 2.616766\n",
      "Train_Epoch : 18 [70/148]\tLoss: 2.321747\n",
      "Train_Epoch : 18 [80/148]\tLoss: 2.773802\n",
      "Train_Epoch : 18 [90/148]\tLoss: 2.334614\n",
      "Train_Epoch : 18 [100/148]\tLoss: 1.832002\n",
      "Train_Epoch : 18 [110/148]\tLoss: 2.371282\n",
      "Train_Epoch : 18 [120/148]\tLoss: 1.852446\n",
      "Train_Epoch : 18 [130/148]\tLoss: 2.331967\n",
      "Train_Epoch : 18 [140/148]\tLoss: 1.864321\n"
     ]
    },
    {
     "name": "stderr",
     "output_type": "stream",
     "text": [
      "Epochs:  63%|██████▎   | 19/30 [09:21<05:24, 29.47s/it]"
     ]
    },
    {
     "name": "stdout",
     "output_type": "stream",
     "text": [
      "[18] Validation Loss: 3.3596, Accuracy: 18.9189%, Epoch Time: 29.44s, Memory Usage: 0.13GB\n",
      "Train_Epoch : 19 [0/148]\tLoss: 2.465595\n",
      "Train_Epoch : 19 [10/148]\tLoss: 2.021055\n",
      "Train_Epoch : 19 [20/148]\tLoss: 2.489594\n",
      "Train_Epoch : 19 [30/148]\tLoss: 2.546829\n",
      "Train_Epoch : 19 [40/148]\tLoss: 2.260427\n",
      "Train_Epoch : 19 [50/148]\tLoss: 2.747013\n",
      "Train_Epoch : 19 [60/148]\tLoss: 2.584601\n",
      "Train_Epoch : 19 [70/148]\tLoss: 2.031075\n",
      "Train_Epoch : 19 [80/148]\tLoss: 2.016321\n",
      "Train_Epoch : 19 [90/148]\tLoss: 1.935562\n",
      "Train_Epoch : 19 [100/148]\tLoss: 3.255551\n",
      "Train_Epoch : 19 [110/148]\tLoss: 2.192868\n",
      "Train_Epoch : 19 [120/148]\tLoss: 2.132849\n",
      "Train_Epoch : 19 [130/148]\tLoss: 2.335405\n",
      "Train_Epoch : 19 [140/148]\tLoss: 1.814004\n"
     ]
    },
    {
     "name": "stderr",
     "output_type": "stream",
     "text": [
      "Epochs:  67%|██████▋   | 20/30 [09:50<04:54, 29.45s/it]"
     ]
    },
    {
     "name": "stdout",
     "output_type": "stream",
     "text": [
      "[19] Validation Loss: 2.8694, Accuracy: 26.0135%, Epoch Time: 29.28s, Memory Usage: 0.13GB\n",
      "Train_Epoch : 20 [0/148]\tLoss: 2.636273\n",
      "Train_Epoch : 20 [10/148]\tLoss: 2.089328\n",
      "Train_Epoch : 20 [20/148]\tLoss: 2.245232\n",
      "Train_Epoch : 20 [30/148]\tLoss: 2.056068\n",
      "Train_Epoch : 20 [40/148]\tLoss: 1.769476\n",
      "Train_Epoch : 20 [50/148]\tLoss: 1.519865\n",
      "Train_Epoch : 20 [60/148]\tLoss: 1.692128\n",
      "Train_Epoch : 20 [70/148]\tLoss: 3.125679\n",
      "Train_Epoch : 20 [80/148]\tLoss: 2.049004\n",
      "Train_Epoch : 20 [90/148]\tLoss: 2.552627\n",
      "Train_Epoch : 20 [100/148]\tLoss: 1.699455\n",
      "Train_Epoch : 20 [110/148]\tLoss: 2.081356\n",
      "Train_Epoch : 20 [120/148]\tLoss: 1.958905\n",
      "Train_Epoch : 20 [130/148]\tLoss: 2.108305\n",
      "Train_Epoch : 20 [140/148]\tLoss: 2.133068\n"
     ]
    },
    {
     "name": "stderr",
     "output_type": "stream",
     "text": [
      "Epochs:  70%|███████   | 21/30 [10:20<04:25, 29.53s/it]"
     ]
    },
    {
     "name": "stdout",
     "output_type": "stream",
     "text": [
      "[20] Validation Loss: 2.7022, Accuracy: 29.7297%, Epoch Time: 29.62s, Memory Usage: 0.13GB\n",
      "Train_Epoch : 21 [0/148]\tLoss: 1.854894\n",
      "Train_Epoch : 21 [10/148]\tLoss: 2.251775\n",
      "Train_Epoch : 21 [20/148]\tLoss: 2.212588\n",
      "Train_Epoch : 21 [30/148]\tLoss: 1.815111\n",
      "Train_Epoch : 21 [40/148]\tLoss: 3.073817\n",
      "Train_Epoch : 21 [50/148]\tLoss: 1.908540\n",
      "Train_Epoch : 21 [60/148]\tLoss: 2.172719\n",
      "Train_Epoch : 21 [70/148]\tLoss: 2.082043\n",
      "Train_Epoch : 21 [80/148]\tLoss: 2.599786\n",
      "Train_Epoch : 21 [90/148]\tLoss: 1.861432\n",
      "Train_Epoch : 21 [100/148]\tLoss: 1.835233\n",
      "Train_Epoch : 21 [110/148]\tLoss: 1.911692\n",
      "Train_Epoch : 21 [120/148]\tLoss: 1.894005\n",
      "Train_Epoch : 21 [130/148]\tLoss: 3.077787\n",
      "Train_Epoch : 21 [140/148]\tLoss: 2.309809\n"
     ]
    },
    {
     "name": "stderr",
     "output_type": "stream",
     "text": [
      "Epochs:  73%|███████▎  | 22/30 [10:50<03:56, 29.55s/it]"
     ]
    },
    {
     "name": "stdout",
     "output_type": "stream",
     "text": [
      "[21] Validation Loss: 2.7199, Accuracy: 34.7973%, Epoch Time: 29.51s, Memory Usage: 0.13GB\n",
      "Train_Epoch : 22 [0/148]\tLoss: 1.917743\n",
      "Train_Epoch : 22 [10/148]\tLoss: 1.559702\n",
      "Train_Epoch : 22 [20/148]\tLoss: 2.843855\n",
      "Train_Epoch : 22 [30/148]\tLoss: 1.678509\n",
      "Train_Epoch : 22 [40/148]\tLoss: 2.538711\n",
      "Train_Epoch : 22 [50/148]\tLoss: 2.502942\n",
      "Train_Epoch : 22 [60/148]\tLoss: 1.759808\n",
      "Train_Epoch : 22 [70/148]\tLoss: 1.868204\n",
      "Train_Epoch : 22 [80/148]\tLoss: 2.592445\n",
      "Train_Epoch : 22 [90/148]\tLoss: 1.475793\n",
      "Train_Epoch : 22 [100/148]\tLoss: 1.848630\n",
      "Train_Epoch : 22 [110/148]\tLoss: 1.968072\n",
      "Train_Epoch : 22 [120/148]\tLoss: 1.694203\n",
      "Train_Epoch : 22 [130/148]\tLoss: 2.290399\n",
      "Train_Epoch : 22 [140/148]\tLoss: 2.474818\n"
     ]
    },
    {
     "name": "stderr",
     "output_type": "stream",
     "text": [
      "Epochs:  77%|███████▋  | 23/30 [11:20<03:27, 29.65s/it]"
     ]
    },
    {
     "name": "stdout",
     "output_type": "stream",
     "text": [
      "[22] Validation Loss: 2.5857, Accuracy: 38.8514%, Epoch Time: 29.78s, Memory Usage: 0.13GB\n",
      "Train_Epoch : 23 [0/148]\tLoss: 1.355100\n",
      "Train_Epoch : 23 [10/148]\tLoss: 1.487257\n",
      "Train_Epoch : 23 [20/148]\tLoss: 1.734402\n",
      "Train_Epoch : 23 [30/148]\tLoss: 1.794755\n",
      "Train_Epoch : 23 [40/148]\tLoss: 2.188049\n",
      "Train_Epoch : 23 [50/148]\tLoss: 1.067760\n",
      "Train_Epoch : 23 [60/148]\tLoss: 2.103394\n",
      "Train_Epoch : 23 [70/148]\tLoss: 1.120252\n",
      "Train_Epoch : 23 [80/148]\tLoss: 2.790874\n",
      "Train_Epoch : 23 [90/148]\tLoss: 2.678106\n",
      "Train_Epoch : 23 [100/148]\tLoss: 2.255500\n",
      "Train_Epoch : 23 [110/148]\tLoss: 2.121715\n",
      "Train_Epoch : 23 [120/148]\tLoss: 2.227643\n",
      "Train_Epoch : 23 [130/148]\tLoss: 1.923217\n",
      "Train_Epoch : 23 [140/148]\tLoss: 2.189306\n"
     ]
    },
    {
     "name": "stderr",
     "output_type": "stream",
     "text": [
      "Epochs:  80%|████████  | 24/30 [11:49<02:57, 29.57s/it]"
     ]
    },
    {
     "name": "stdout",
     "output_type": "stream",
     "text": [
      "[23] Validation Loss: 2.5082, Accuracy: 32.0946%, Epoch Time: 29.39s, Memory Usage: 0.13GB\n",
      "Train_Epoch : 24 [0/148]\tLoss: 1.347284\n",
      "Train_Epoch : 24 [10/148]\tLoss: 2.065722\n",
      "Train_Epoch : 24 [20/148]\tLoss: 1.583431\n",
      "Train_Epoch : 24 [30/148]\tLoss: 1.280353\n",
      "Train_Epoch : 24 [40/148]\tLoss: 2.117223\n",
      "Train_Epoch : 24 [50/148]\tLoss: 1.606433\n",
      "Train_Epoch : 24 [60/148]\tLoss: 1.674647\n",
      "Train_Epoch : 24 [70/148]\tLoss: 1.631979\n",
      "Train_Epoch : 24 [80/148]\tLoss: 1.907554\n",
      "Train_Epoch : 24 [90/148]\tLoss: 1.680682\n",
      "Train_Epoch : 24 [100/148]\tLoss: 1.752977\n",
      "Train_Epoch : 24 [110/148]\tLoss: 1.459818\n",
      "Train_Epoch : 24 [120/148]\tLoss: 2.461683\n",
      "Train_Epoch : 24 [130/148]\tLoss: 2.221179\n",
      "Train_Epoch : 24 [140/148]\tLoss: 1.703220\n"
     ]
    },
    {
     "name": "stderr",
     "output_type": "stream",
     "text": [
      "Epochs:  83%|████████▎ | 25/30 [12:18<02:27, 29.43s/it]"
     ]
    },
    {
     "name": "stdout",
     "output_type": "stream",
     "text": [
      "[24] Validation Loss: 2.5285, Accuracy: 33.7838%, Epoch Time: 29.08s, Memory Usage: 0.13GB\n",
      "Train_Epoch : 25 [0/148]\tLoss: 1.798563\n",
      "Train_Epoch : 25 [10/148]\tLoss: 1.232224\n",
      "Train_Epoch : 25 [20/148]\tLoss: 2.176621\n",
      "Train_Epoch : 25 [30/148]\tLoss: 1.563221\n",
      "Train_Epoch : 25 [40/148]\tLoss: 1.477935\n",
      "Train_Epoch : 25 [50/148]\tLoss: 1.475486\n",
      "Train_Epoch : 25 [60/148]\tLoss: 1.544796\n",
      "Train_Epoch : 25 [70/148]\tLoss: 1.706434\n",
      "Train_Epoch : 25 [80/148]\tLoss: 1.028403\n",
      "Train_Epoch : 25 [90/148]\tLoss: 1.276571\n",
      "Train_Epoch : 25 [100/148]\tLoss: 0.979047\n",
      "Train_Epoch : 25 [110/148]\tLoss: 1.158065\n",
      "Train_Epoch : 25 [120/148]\tLoss: 1.514628\n",
      "Train_Epoch : 25 [130/148]\tLoss: 1.377151\n",
      "Train_Epoch : 25 [140/148]\tLoss: 1.315880\n"
     ]
    },
    {
     "name": "stderr",
     "output_type": "stream",
     "text": [
      "Epochs:  87%|████████▋ | 26/30 [12:47<01:57, 29.43s/it]"
     ]
    },
    {
     "name": "stdout",
     "output_type": "stream",
     "text": [
      "[25] Validation Loss: 2.3125, Accuracy: 41.2162%, Epoch Time: 29.35s, Memory Usage: 0.13GB\n",
      "Train_Epoch : 26 [0/148]\tLoss: 1.200903\n",
      "Train_Epoch : 26 [10/148]\tLoss: 2.058687\n",
      "Train_Epoch : 26 [20/148]\tLoss: 2.049973\n",
      "Train_Epoch : 26 [30/148]\tLoss: 1.481258\n",
      "Train_Epoch : 26 [40/148]\tLoss: 0.909648\n",
      "Train_Epoch : 26 [50/148]\tLoss: 1.480634\n",
      "Train_Epoch : 26 [60/148]\tLoss: 1.013618\n",
      "Train_Epoch : 26 [70/148]\tLoss: 0.859571\n",
      "Train_Epoch : 26 [80/148]\tLoss: 0.929512\n",
      "Train_Epoch : 26 [90/148]\tLoss: 0.755706\n",
      "Train_Epoch : 26 [100/148]\tLoss: 1.505182\n",
      "Train_Epoch : 26 [110/148]\tLoss: 1.321780\n",
      "Train_Epoch : 26 [120/148]\tLoss: 1.224771\n",
      "Train_Epoch : 26 [130/148]\tLoss: 0.867468\n",
      "Train_Epoch : 26 [140/148]\tLoss: 1.113019\n"
     ]
    },
    {
     "name": "stderr",
     "output_type": "stream",
     "text": [
      "Epochs:  90%|█████████ | 27/30 [13:17<01:28, 29.46s/it]"
     ]
    },
    {
     "name": "stdout",
     "output_type": "stream",
     "text": [
      "[26] Validation Loss: 3.0980, Accuracy: 33.1081%, Epoch Time: 29.51s, Memory Usage: 0.13GB\n",
      "Train_Epoch : 27 [0/148]\tLoss: 1.511756\n",
      "Train_Epoch : 27 [10/148]\tLoss: 0.959458\n",
      "Train_Epoch : 27 [20/148]\tLoss: 0.779159\n",
      "Train_Epoch : 27 [30/148]\tLoss: 1.079127\n",
      "Train_Epoch : 27 [40/148]\tLoss: 2.480163\n",
      "Train_Epoch : 27 [50/148]\tLoss: 1.488692\n",
      "Train_Epoch : 27 [60/148]\tLoss: 0.705187\n",
      "Train_Epoch : 27 [70/148]\tLoss: 1.629684\n",
      "Train_Epoch : 27 [80/148]\tLoss: 1.648950\n",
      "Train_Epoch : 27 [90/148]\tLoss: 1.761798\n",
      "Train_Epoch : 27 [100/148]\tLoss: 1.567476\n",
      "Train_Epoch : 27 [110/148]\tLoss: 1.048161\n",
      "Train_Epoch : 27 [120/148]\tLoss: 0.682845\n",
      "Train_Epoch : 27 [130/148]\tLoss: 1.263282\n",
      "Train_Epoch : 27 [140/148]\tLoss: 1.621647\n"
     ]
    },
    {
     "name": "stderr",
     "output_type": "stream",
     "text": [
      "Epochs:  93%|█████████▎| 28/30 [13:47<00:59, 29.53s/it]"
     ]
    },
    {
     "name": "stdout",
     "output_type": "stream",
     "text": [
      "[27] Validation Loss: 3.7955, Accuracy: 28.7162%, Epoch Time: 29.69s, Memory Usage: 0.13GB\n",
      "Train_Epoch : 28 [0/148]\tLoss: 1.153049\n",
      "Train_Epoch : 28 [10/148]\tLoss: 0.730400\n",
      "Train_Epoch : 28 [20/148]\tLoss: 1.346800\n",
      "Train_Epoch : 28 [30/148]\tLoss: 1.218791\n",
      "Train_Epoch : 28 [40/148]\tLoss: 1.238141\n",
      "Train_Epoch : 28 [50/148]\tLoss: 0.713800\n",
      "Train_Epoch : 28 [60/148]\tLoss: 1.087228\n",
      "Train_Epoch : 28 [70/148]\tLoss: 0.535973\n",
      "Train_Epoch : 28 [80/148]\tLoss: 1.428603\n",
      "Train_Epoch : 28 [90/148]\tLoss: 1.099735\n",
      "Train_Epoch : 28 [100/148]\tLoss: 0.905042\n",
      "Train_Epoch : 28 [110/148]\tLoss: 1.372969\n",
      "Train_Epoch : 28 [120/148]\tLoss: 1.453467\n",
      "Train_Epoch : 28 [130/148]\tLoss: 1.079688\n",
      "Train_Epoch : 28 [140/148]\tLoss: 1.486316\n"
     ]
    },
    {
     "name": "stderr",
     "output_type": "stream",
     "text": [
      "Epochs:  97%|█████████▋| 29/30 [14:16<00:29, 29.51s/it]"
     ]
    },
    {
     "name": "stdout",
     "output_type": "stream",
     "text": [
      "[28] Validation Loss: 3.4183, Accuracy: 36.4865%, Epoch Time: 29.48s, Memory Usage: 0.13GB\n",
      "Train_Epoch : 29 [0/148]\tLoss: 0.843303\n",
      "Train_Epoch : 29 [10/148]\tLoss: 0.967889\n",
      "Train_Epoch : 29 [20/148]\tLoss: 1.457407\n",
      "Train_Epoch : 29 [30/148]\tLoss: 0.821332\n",
      "Train_Epoch : 29 [40/148]\tLoss: 1.048323\n",
      "Train_Epoch : 29 [50/148]\tLoss: 1.121006\n",
      "Train_Epoch : 29 [60/148]\tLoss: 1.629701\n",
      "Train_Epoch : 29 [70/148]\tLoss: 0.844846\n",
      "Train_Epoch : 29 [80/148]\tLoss: 1.361141\n",
      "Train_Epoch : 29 [90/148]\tLoss: 0.604202\n",
      "Train_Epoch : 29 [100/148]\tLoss: 1.134121\n",
      "Train_Epoch : 29 [110/148]\tLoss: 1.058843\n",
      "Train_Epoch : 29 [120/148]\tLoss: 1.063342\n",
      "Train_Epoch : 29 [130/148]\tLoss: 1.021662\n",
      "Train_Epoch : 29 [140/148]\tLoss: 1.088896\n"
     ]
    },
    {
     "name": "stderr",
     "output_type": "stream",
     "text": [
      "Epochs: 100%|██████████| 30/30 [14:45<00:00, 29.53s/it]"
     ]
    },
    {
     "name": "stdout",
     "output_type": "stream",
     "text": [
      "[29] Validation Loss: 3.0315, Accuracy: 36.8243%, Epoch Time: 29.19s, Memory Usage: 0.13GB\n"
     ]
    },
    {
     "name": "stderr",
     "output_type": "stream",
     "text": [
      "\n"
     ]
    },
    {
     "name": "stdout",
     "output_type": "stream",
     "text": [
      "[Final] Test Loss: 3.9056, Accuracy: 29.8658%\n",
      "Elapsed Time: 0h, 14m, 50s\n"
     ]
    },
    {
     "data": {
      "text/html": [
       "<style>\n",
       "    table.wandb td:nth-child(1) { padding: 0 10px; text-align: left ; width: auto;} td:nth-child(2) {text-align: left ; width: 100%}\n",
       "    .wandb-row { display: flex; flex-direction: row; flex-wrap: wrap; justify-content: flex-start; width: 100% }\n",
       "    .wandb-col { display: flex; flex-direction: column; flex-basis: 100%; flex: 1; padding: 10px; }\n",
       "    </style>\n",
       "<div class=\"wandb-row\"><div class=\"wandb-col\"><h3>Run history:</h3><br/><table class=\"wandb\"><tr><td>epoch</td><td>▁▁▁▁▁▂▂▂▂▂▃▃▃▃▃▄▄▄▄▄▄▄▄▄▅▅▅▅▅▅▆▆▆▇▇█████</td></tr><tr><td>epoch_time</td><td>▅▆▅█▅▄▅▄▃▄▅▆▆▄▄▄▃▆▄▃▆▅▇▄▁▃▅▇▅▂</td></tr><tr><td>memory_usage_GB</td><td>▁▁▁▁▁▁▁▁▁▁▁▁▁▁▁▁▁▁▁▁▁▁▁▁▁▁▁▁▁▁</td></tr><tr><td>test_accuracy</td><td>▁</td></tr><tr><td>test_loss</td><td>▁</td></tr><tr><td>train_loss</td><td>███▇█▇█▇▇█▇▇▇▆▆▇█▇▆▆▅▅▅▄▃▃▅▅▃▃▄▁▂▂▁▂▂▁▁▁</td></tr><tr><td>val_accuracy</td><td>▁▁▁▁▁▂▁▁▂▂▂▂▂▂▂▃▄▄▃▃▄▅▅▄▅▅▅▆▆█▆▇▇█▇▆▇▇▇▆</td></tr><tr><td>val_loss</td><td>███▇▇█▇▇████▆▆▅▄▆▅▅▅▃▅▅▅▆▃▃▃▂▂▂▂▂▁▄██▆▆█</td></tr></table><br/></div><div class=\"wandb-col\"><h3>Run summary:</h3><br/><table class=\"wandb\"><tr><td>epoch</td><td>29</td></tr><tr><td>epoch_time</td><td>29.18611</td></tr><tr><td>memory_usage_GB</td><td>0.1272</td></tr><tr><td>test_accuracy</td><td>29.86577</td></tr><tr><td>test_loss</td><td>3.90564</td></tr><tr><td>train_loss</td><td>1.12886</td></tr><tr><td>val_accuracy</td><td>29.86577</td></tr><tr><td>val_loss</td><td>3.90564</td></tr></table><br/></div></div>"
      ],
      "text/plain": [
       "<IPython.core.display.HTML object>"
      ]
     },
     "metadata": {},
     "output_type": "display_data"
    },
    {
     "data": {
      "text/html": [
       " View run <strong style=\"color:#cdcd00\">giddy-sweep-2</strong> at: <a href='https://wandb.ai/empe8339-gachon-university/Active_Learning1/runs/9vakmy0f' target=\"_blank\">https://wandb.ai/empe8339-gachon-university/Active_Learning1/runs/9vakmy0f</a><br/> View project at: <a href='https://wandb.ai/empe8339-gachon-university/Active_Learning1' target=\"_blank\">https://wandb.ai/empe8339-gachon-university/Active_Learning1</a><br/>Synced 5 W&B file(s), 0 media file(s), 0 artifact file(s) and 0 other file(s)"
      ],
      "text/plain": [
       "<IPython.core.display.HTML object>"
      ]
     },
     "metadata": {},
     "output_type": "display_data"
    },
    {
     "data": {
      "text/html": [
       "Find logs at: <code>./wandb/run-20241101_203249-9vakmy0f/logs</code>"
      ],
      "text/plain": [
       "<IPython.core.display.HTML object>"
      ]
     },
     "metadata": {},
     "output_type": "display_data"
    },
    {
     "name": "stderr",
     "output_type": "stream",
     "text": [
      "\u001b[34m\u001b[1mwandb\u001b[0m: Agent Starting Run: ong8epmo with config:\n",
      "\u001b[34m\u001b[1mwandb\u001b[0m: \tbatch_size: 16\n",
      "\u001b[34m\u001b[1mwandb\u001b[0m: \tepochs: 30\n",
      "\u001b[34m\u001b[1mwandb\u001b[0m: \tlearning_rate: 0.01\n",
      "\u001b[34m\u001b[1mwandb\u001b[0m: \toptimizer: adam\n"
     ]
    },
    {
     "data": {
      "text/html": [
       "Tracking run with wandb version 0.18.5"
      ],
      "text/plain": [
       "<IPython.core.display.HTML object>"
      ]
     },
     "metadata": {},
     "output_type": "display_data"
    },
    {
     "data": {
      "text/html": [
       "Run data is saved locally in <code>/home/jovyan/wandb/run-20241101_204745-ong8epmo</code>"
      ],
      "text/plain": [
       "<IPython.core.display.HTML object>"
      ]
     },
     "metadata": {},
     "output_type": "display_data"
    },
    {
     "data": {
      "text/html": [
       "Syncing run <strong><a href='https://wandb.ai/empe8339-gachon-university/Active_Learning1/runs/ong8epmo' target=\"_blank\">rare-sweep-3</a></strong> to <a href='https://wandb.ai/empe8339-gachon-university/Active_Learning1' target=\"_blank\">Weights & Biases</a> (<a href='https://wandb.me/run' target=\"_blank\">docs</a>)<br/>Sweep page: <a href='https://wandb.ai/empe8339-gachon-university/Active_Learning1/sweeps/6gkqh4mq' target=\"_blank\">https://wandb.ai/empe8339-gachon-university/Active_Learning1/sweeps/6gkqh4mq</a>"
      ],
      "text/plain": [
       "<IPython.core.display.HTML object>"
      ]
     },
     "metadata": {},
     "output_type": "display_data"
    },
    {
     "data": {
      "text/html": [
       " View project at <a href='https://wandb.ai/empe8339-gachon-university/Active_Learning1' target=\"_blank\">https://wandb.ai/empe8339-gachon-university/Active_Learning1</a>"
      ],
      "text/plain": [
       "<IPython.core.display.HTML object>"
      ]
     },
     "metadata": {},
     "output_type": "display_data"
    },
    {
     "data": {
      "text/html": [
       " View sweep at <a href='https://wandb.ai/empe8339-gachon-university/Active_Learning1/sweeps/6gkqh4mq' target=\"_blank\">https://wandb.ai/empe8339-gachon-university/Active_Learning1/sweeps/6gkqh4mq</a>"
      ],
      "text/plain": [
       "<IPython.core.display.HTML object>"
      ]
     },
     "metadata": {},
     "output_type": "display_data"
    },
    {
     "data": {
      "text/html": [
       " View run at <a href='https://wandb.ai/empe8339-gachon-university/Active_Learning1/runs/ong8epmo' target=\"_blank\">https://wandb.ai/empe8339-gachon-university/Active_Learning1/runs/ong8epmo</a>"
      ],
      "text/plain": [
       "<IPython.core.display.HTML object>"
      ]
     },
     "metadata": {},
     "output_type": "display_data"
    },
    {
     "name": "stderr",
     "output_type": "stream",
     "text": [
      "Epochs:   0%|          | 0/30 [00:00<?, ?it/s]"
     ]
    },
    {
     "name": "stdout",
     "output_type": "stream",
     "text": [
      "Train_Epoch : 0 [0/148]\tLoss: 0.756968\n",
      "Train_Epoch : 0 [10/148]\tLoss: 1.189419\n",
      "Train_Epoch : 0 [20/148]\tLoss: 0.747415\n",
      "Train_Epoch : 0 [30/148]\tLoss: 0.891348\n",
      "Train_Epoch : 0 [40/148]\tLoss: 0.548042\n",
      "Train_Epoch : 0 [50/148]\tLoss: 0.831279\n",
      "Train_Epoch : 0 [60/148]\tLoss: 1.121917\n",
      "Train_Epoch : 0 [70/148]\tLoss: 0.965383\n",
      "Train_Epoch : 0 [80/148]\tLoss: 0.657622\n",
      "Train_Epoch : 0 [90/148]\tLoss: 1.147348\n",
      "Train_Epoch : 0 [100/148]\tLoss: 0.919482\n",
      "Train_Epoch : 0 [110/148]\tLoss: 1.090058\n",
      "Train_Epoch : 0 [120/148]\tLoss: 0.872663\n",
      "Train_Epoch : 0 [130/148]\tLoss: 1.390540\n",
      "Train_Epoch : 0 [140/148]\tLoss: 1.228773\n"
     ]
    },
    {
     "name": "stderr",
     "output_type": "stream",
     "text": [
      "Epochs:   3%|▎         | 1/30 [00:29<14:21, 29.70s/it]"
     ]
    },
    {
     "name": "stdout",
     "output_type": "stream",
     "text": [
      "[0] Validation Loss: 2.3574, Accuracy: 48.6486%, Epoch Time: 29.60s, Memory Usage: 0.17GB\n",
      "Train_Epoch : 1 [0/148]\tLoss: 0.543646\n",
      "Train_Epoch : 1 [10/148]\tLoss: 0.822840\n",
      "Train_Epoch : 1 [20/148]\tLoss: 0.354089\n",
      "Train_Epoch : 1 [30/148]\tLoss: 0.825493\n",
      "Train_Epoch : 1 [40/148]\tLoss: 0.834722\n",
      "Train_Epoch : 1 [50/148]\tLoss: 0.535220\n",
      "Train_Epoch : 1 [60/148]\tLoss: 0.786403\n",
      "Train_Epoch : 1 [70/148]\tLoss: 0.601668\n",
      "Train_Epoch : 1 [80/148]\tLoss: 0.450759\n",
      "Train_Epoch : 1 [90/148]\tLoss: 1.464418\n",
      "Train_Epoch : 1 [100/148]\tLoss: 0.774805\n",
      "Train_Epoch : 1 [110/148]\tLoss: 0.509923\n",
      "Train_Epoch : 1 [120/148]\tLoss: 0.478840\n",
      "Train_Epoch : 1 [130/148]\tLoss: 0.949026\n",
      "Train_Epoch : 1 [140/148]\tLoss: 0.960576\n"
     ]
    },
    {
     "name": "stderr",
     "output_type": "stream",
     "text": [
      "Epochs:   7%|▋         | 2/30 [00:59<13:47, 29.56s/it]"
     ]
    },
    {
     "name": "stdout",
     "output_type": "stream",
     "text": [
      "[1] Validation Loss: 2.6048, Accuracy: 45.2703%, Epoch Time: 29.46s, Memory Usage: 0.17GB\n",
      "Train_Epoch : 2 [0/148]\tLoss: 0.279285\n",
      "Train_Epoch : 2 [10/148]\tLoss: 0.536128\n",
      "Train_Epoch : 2 [20/148]\tLoss: 0.715778\n",
      "Train_Epoch : 2 [30/148]\tLoss: 0.721010\n",
      "Train_Epoch : 2 [40/148]\tLoss: 1.232587\n",
      "Train_Epoch : 2 [50/148]\tLoss: 0.335121\n",
      "Train_Epoch : 2 [60/148]\tLoss: 1.312192\n",
      "Train_Epoch : 2 [70/148]\tLoss: 0.512652\n",
      "Train_Epoch : 2 [80/148]\tLoss: 0.871806\n",
      "Train_Epoch : 2 [90/148]\tLoss: 0.577969\n",
      "Train_Epoch : 2 [100/148]\tLoss: 0.827162\n",
      "Train_Epoch : 2 [110/148]\tLoss: 0.942964\n",
      "Train_Epoch : 2 [120/148]\tLoss: 0.812503\n",
      "Train_Epoch : 2 [130/148]\tLoss: 0.613121\n",
      "Train_Epoch : 2 [140/148]\tLoss: 1.101148\n"
     ]
    },
    {
     "name": "stderr",
     "output_type": "stream",
     "text": [
      "Epochs:  10%|█         | 3/30 [01:28<13:16, 29.49s/it]"
     ]
    },
    {
     "name": "stdout",
     "output_type": "stream",
     "text": [
      "[2] Validation Loss: 2.8690, Accuracy: 43.9189%, Epoch Time: 29.41s, Memory Usage: 0.17GB\n",
      "Train_Epoch : 3 [0/148]\tLoss: 0.526511\n",
      "Train_Epoch : 3 [10/148]\tLoss: 0.778198\n",
      "Train_Epoch : 3 [20/148]\tLoss: 0.386029\n",
      "Train_Epoch : 3 [30/148]\tLoss: 0.713472\n",
      "Train_Epoch : 3 [40/148]\tLoss: 0.663375\n",
      "Train_Epoch : 3 [50/148]\tLoss: 0.540502\n",
      "Train_Epoch : 3 [60/148]\tLoss: 0.957476\n",
      "Train_Epoch : 3 [70/148]\tLoss: 0.862825\n",
      "Train_Epoch : 3 [80/148]\tLoss: 0.942341\n",
      "Train_Epoch : 3 [90/148]\tLoss: 1.057096\n",
      "Train_Epoch : 3 [100/148]\tLoss: 0.859742\n",
      "Train_Epoch : 3 [110/148]\tLoss: 0.827100\n",
      "Train_Epoch : 3 [120/148]\tLoss: 0.920341\n",
      "Train_Epoch : 3 [130/148]\tLoss: 0.932543\n",
      "Train_Epoch : 3 [140/148]\tLoss: 0.341633\n"
     ]
    },
    {
     "name": "stderr",
     "output_type": "stream",
     "text": [
      "Epochs:  13%|█▎        | 4/30 [01:57<12:45, 29.45s/it]"
     ]
    },
    {
     "name": "stdout",
     "output_type": "stream",
     "text": [
      "[3] Validation Loss: 2.4947, Accuracy: 42.5676%, Epoch Time: 29.39s, Memory Usage: 0.17GB\n",
      "Train_Epoch : 4 [0/148]\tLoss: 0.597052\n",
      "Train_Epoch : 4 [10/148]\tLoss: 0.520185\n",
      "Train_Epoch : 4 [20/148]\tLoss: 0.662799\n",
      "Train_Epoch : 4 [30/148]\tLoss: 0.330774\n",
      "Train_Epoch : 4 [40/148]\tLoss: 0.314724\n",
      "Train_Epoch : 4 [50/148]\tLoss: 0.104411\n",
      "Train_Epoch : 4 [60/148]\tLoss: 0.511939\n",
      "Train_Epoch : 4 [70/148]\tLoss: 0.458636\n",
      "Train_Epoch : 4 [80/148]\tLoss: 0.215926\n",
      "Train_Epoch : 4 [90/148]\tLoss: 0.406906\n",
      "Train_Epoch : 4 [100/148]\tLoss: 0.389453\n",
      "Train_Epoch : 4 [110/148]\tLoss: 0.446196\n",
      "Train_Epoch : 4 [120/148]\tLoss: 0.715189\n",
      "Train_Epoch : 4 [130/148]\tLoss: 0.448499\n",
      "Train_Epoch : 4 [140/148]\tLoss: 0.212347\n"
     ]
    },
    {
     "name": "stderr",
     "output_type": "stream",
     "text": [
      "Epochs:  17%|█▋        | 5/30 [02:27<12:17, 29.49s/it]"
     ]
    },
    {
     "name": "stdout",
     "output_type": "stream",
     "text": [
      "[4] Validation Loss: 2.8714, Accuracy: 48.6486%, Epoch Time: 29.55s, Memory Usage: 0.17GB\n",
      "Train_Epoch : 5 [0/148]\tLoss: 0.304422\n",
      "Train_Epoch : 5 [10/148]\tLoss: 0.372988\n",
      "Train_Epoch : 5 [20/148]\tLoss: 0.199380\n",
      "Train_Epoch : 5 [30/148]\tLoss: 0.495993\n",
      "Train_Epoch : 5 [40/148]\tLoss: 0.203146\n",
      "Train_Epoch : 5 [50/148]\tLoss: 0.320089\n",
      "Train_Epoch : 5 [60/148]\tLoss: 0.091678\n",
      "Train_Epoch : 5 [70/148]\tLoss: 0.205852\n",
      "Train_Epoch : 5 [80/148]\tLoss: 0.513546\n",
      "Train_Epoch : 5 [90/148]\tLoss: 0.121454\n",
      "Train_Epoch : 5 [100/148]\tLoss: 0.259654\n",
      "Train_Epoch : 5 [110/148]\tLoss: 0.480395\n",
      "Train_Epoch : 5 [120/148]\tLoss: 0.334064\n",
      "Train_Epoch : 5 [130/148]\tLoss: 0.378369\n",
      "Train_Epoch : 5 [140/148]\tLoss: 0.577083\n"
     ]
    },
    {
     "name": "stderr",
     "output_type": "stream",
     "text": [
      "Epochs:  20%|██        | 6/30 [02:57<11:48, 29.51s/it]"
     ]
    },
    {
     "name": "stdout",
     "output_type": "stream",
     "text": [
      "[5] Validation Loss: 3.0982, Accuracy: 45.6081%, Epoch Time: 29.56s, Memory Usage: 0.17GB\n",
      "Train_Epoch : 6 [0/148]\tLoss: 0.237811\n",
      "Train_Epoch : 6 [10/148]\tLoss: 0.555703\n",
      "Train_Epoch : 6 [20/148]\tLoss: 0.506549\n",
      "Train_Epoch : 6 [30/148]\tLoss: 0.929391\n",
      "Train_Epoch : 6 [40/148]\tLoss: 0.275626\n",
      "Train_Epoch : 6 [50/148]\tLoss: 0.203359\n",
      "Train_Epoch : 6 [60/148]\tLoss: 0.147853\n",
      "Train_Epoch : 6 [70/148]\tLoss: 0.437013\n",
      "Train_Epoch : 6 [80/148]\tLoss: 0.574771\n",
      "Train_Epoch : 6 [90/148]\tLoss: 0.374498\n",
      "Train_Epoch : 6 [100/148]\tLoss: 0.180149\n",
      "Train_Epoch : 6 [110/148]\tLoss: 0.278135\n",
      "Train_Epoch : 6 [120/148]\tLoss: 0.342852\n",
      "Train_Epoch : 6 [130/148]\tLoss: 0.342867\n",
      "Train_Epoch : 6 [140/148]\tLoss: 0.498470\n"
     ]
    },
    {
     "name": "stderr",
     "output_type": "stream",
     "text": [
      "Epochs:  23%|██▎       | 7/30 [03:26<11:15, 29.38s/it]"
     ]
    },
    {
     "name": "stdout",
     "output_type": "stream",
     "text": [
      "[6] Validation Loss: 3.1072, Accuracy: 42.9054%, Epoch Time: 29.10s, Memory Usage: 0.17GB\n",
      "Train_Epoch : 7 [0/148]\tLoss: 0.050428\n",
      "Train_Epoch : 7 [10/148]\tLoss: 0.156931\n",
      "Train_Epoch : 7 [20/148]\tLoss: 0.445779\n",
      "Train_Epoch : 7 [30/148]\tLoss: 0.300642\n",
      "Train_Epoch : 7 [40/148]\tLoss: 0.223357\n",
      "Train_Epoch : 7 [50/148]\tLoss: 0.188919\n",
      "Train_Epoch : 7 [60/148]\tLoss: 0.714758\n",
      "Train_Epoch : 7 [70/148]\tLoss: 1.131711\n",
      "Train_Epoch : 7 [80/148]\tLoss: 0.344531\n",
      "Train_Epoch : 7 [90/148]\tLoss: 0.652177\n",
      "Train_Epoch : 7 [100/148]\tLoss: 0.302243\n",
      "Train_Epoch : 7 [110/148]\tLoss: 0.595575\n",
      "Train_Epoch : 7 [120/148]\tLoss: 0.392087\n",
      "Train_Epoch : 7 [130/148]\tLoss: 0.418753\n",
      "Train_Epoch : 7 [140/148]\tLoss: 0.820418\n"
     ]
    },
    {
     "name": "stderr",
     "output_type": "stream",
     "text": [
      "Epochs:  27%|██▋       | 8/30 [03:55<10:45, 29.32s/it]"
     ]
    },
    {
     "name": "stdout",
     "output_type": "stream",
     "text": [
      "[7] Validation Loss: 3.3348, Accuracy: 45.2703%, Epoch Time: 29.20s, Memory Usage: 0.17GB\n",
      "Train_Epoch : 8 [0/148]\tLoss: 0.414935\n",
      "Train_Epoch : 8 [10/148]\tLoss: 0.448396\n",
      "Train_Epoch : 8 [20/148]\tLoss: 0.668363\n",
      "Train_Epoch : 8 [30/148]\tLoss: 0.519670\n",
      "Train_Epoch : 8 [40/148]\tLoss: 0.045097\n",
      "Train_Epoch : 8 [50/148]\tLoss: 0.239204\n",
      "Train_Epoch : 8 [60/148]\tLoss: 0.231863\n",
      "Train_Epoch : 8 [70/148]\tLoss: 0.844005\n",
      "Train_Epoch : 8 [80/148]\tLoss: 0.057210\n",
      "Train_Epoch : 8 [90/148]\tLoss: 0.248680\n",
      "Train_Epoch : 8 [100/148]\tLoss: 0.751954\n",
      "Train_Epoch : 8 [110/148]\tLoss: 0.179624\n",
      "Train_Epoch : 8 [120/148]\tLoss: 0.253889\n",
      "Train_Epoch : 8 [130/148]\tLoss: 0.197995\n",
      "Train_Epoch : 8 [140/148]\tLoss: 0.024289\n"
     ]
    },
    {
     "name": "stderr",
     "output_type": "stream",
     "text": [
      "Epochs:  30%|███       | 9/30 [04:24<10:14, 29.25s/it]"
     ]
    },
    {
     "name": "stdout",
     "output_type": "stream",
     "text": [
      "[8] Validation Loss: 2.8987, Accuracy: 46.6216%, Epoch Time: 29.08s, Memory Usage: 0.17GB\n",
      "Train_Epoch : 9 [0/148]\tLoss: 0.091337\n",
      "Train_Epoch : 9 [10/148]\tLoss: 0.283615\n",
      "Train_Epoch : 9 [20/148]\tLoss: 0.333706\n",
      "Train_Epoch : 9 [30/148]\tLoss: 0.210121\n",
      "Train_Epoch : 9 [40/148]\tLoss: 0.175799\n",
      "Train_Epoch : 9 [50/148]\tLoss: 0.580160\n",
      "Train_Epoch : 9 [60/148]\tLoss: 0.909524\n",
      "Train_Epoch : 9 [70/148]\tLoss: 0.164935\n",
      "Train_Epoch : 9 [80/148]\tLoss: 0.078512\n",
      "Train_Epoch : 9 [90/148]\tLoss: 0.160868\n",
      "Train_Epoch : 9 [100/148]\tLoss: 0.155085\n",
      "Train_Epoch : 9 [110/148]\tLoss: 0.333563\n",
      "Train_Epoch : 9 [120/148]\tLoss: 0.238831\n",
      "Train_Epoch : 9 [130/148]\tLoss: 0.060281\n",
      "Train_Epoch : 9 [140/148]\tLoss: 0.151378\n"
     ]
    },
    {
     "name": "stderr",
     "output_type": "stream",
     "text": [
      "Epochs:  33%|███▎      | 10/30 [04:53<09:46, 29.33s/it]"
     ]
    },
    {
     "name": "stdout",
     "output_type": "stream",
     "text": [
      "[9] Validation Loss: 3.2767, Accuracy: 51.3514%, Epoch Time: 29.40s, Memory Usage: 0.17GB\n",
      "Train_Epoch : 10 [0/148]\tLoss: 0.102574\n",
      "Train_Epoch : 10 [10/148]\tLoss: 0.031113\n",
      "Train_Epoch : 10 [20/148]\tLoss: 0.447150\n",
      "Train_Epoch : 10 [30/148]\tLoss: 0.334067\n",
      "Train_Epoch : 10 [40/148]\tLoss: 0.254081\n",
      "Train_Epoch : 10 [50/148]\tLoss: 0.498975\n",
      "Train_Epoch : 10 [60/148]\tLoss: 0.944489\n",
      "Train_Epoch : 10 [70/148]\tLoss: 0.855848\n",
      "Train_Epoch : 10 [80/148]\tLoss: 0.179070\n",
      "Train_Epoch : 10 [90/148]\tLoss: 0.142004\n",
      "Train_Epoch : 10 [100/148]\tLoss: 0.713756\n",
      "Train_Epoch : 10 [110/148]\tLoss: 0.314591\n",
      "Train_Epoch : 10 [120/148]\tLoss: 0.491486\n",
      "Train_Epoch : 10 [130/148]\tLoss: 0.360867\n",
      "Train_Epoch : 10 [140/148]\tLoss: 0.355534\n"
     ]
    },
    {
     "name": "stderr",
     "output_type": "stream",
     "text": [
      "Epochs:  37%|███▋      | 11/30 [05:23<09:18, 29.38s/it]"
     ]
    },
    {
     "name": "stdout",
     "output_type": "stream",
     "text": [
      "[10] Validation Loss: 3.3936, Accuracy: 49.3243%, Epoch Time: 29.50s, Memory Usage: 0.17GB\n",
      "Train_Epoch : 11 [0/148]\tLoss: 0.492533\n",
      "Train_Epoch : 11 [10/148]\tLoss: 0.122163\n",
      "Train_Epoch : 11 [20/148]\tLoss: 0.409047\n",
      "Train_Epoch : 11 [30/148]\tLoss: 0.222354\n",
      "Train_Epoch : 11 [40/148]\tLoss: 0.372679\n",
      "Train_Epoch : 11 [50/148]\tLoss: 0.271331\n",
      "Train_Epoch : 11 [60/148]\tLoss: 0.156512\n",
      "Train_Epoch : 11 [70/148]\tLoss: 0.184358\n",
      "Train_Epoch : 11 [80/148]\tLoss: 0.255097\n",
      "Train_Epoch : 11 [90/148]\tLoss: 0.176039\n",
      "Train_Epoch : 11 [100/148]\tLoss: 0.270625\n",
      "Train_Epoch : 11 [110/148]\tLoss: 0.106698\n",
      "Train_Epoch : 11 [120/148]\tLoss: 0.232996\n",
      "Train_Epoch : 11 [130/148]\tLoss: 0.141865\n",
      "Train_Epoch : 11 [140/148]\tLoss: 0.428535\n"
     ]
    },
    {
     "name": "stderr",
     "output_type": "stream",
     "text": [
      "Epochs:  40%|████      | 12/30 [05:52<08:49, 29.42s/it]"
     ]
    },
    {
     "name": "stdout",
     "output_type": "stream",
     "text": [
      "[11] Validation Loss: 3.2541, Accuracy: 46.2838%, Epoch Time: 29.50s, Memory Usage: 0.17GB\n",
      "Train_Epoch : 12 [0/148]\tLoss: 0.123997\n",
      "Train_Epoch : 12 [10/148]\tLoss: 0.157754\n",
      "Train_Epoch : 12 [20/148]\tLoss: 0.440949\n",
      "Train_Epoch : 12 [30/148]\tLoss: 0.109509\n",
      "Train_Epoch : 12 [40/148]\tLoss: 0.012659\n",
      "Train_Epoch : 12 [50/148]\tLoss: 0.095915\n",
      "Train_Epoch : 12 [60/148]\tLoss: 0.268032\n",
      "Train_Epoch : 12 [70/148]\tLoss: 0.195687\n",
      "Train_Epoch : 12 [80/148]\tLoss: 0.137467\n",
      "Train_Epoch : 12 [90/148]\tLoss: 0.346753\n",
      "Train_Epoch : 12 [100/148]\tLoss: 0.436785\n",
      "Train_Epoch : 12 [110/148]\tLoss: 0.024042\n",
      "Train_Epoch : 12 [120/148]\tLoss: 0.080054\n",
      "Train_Epoch : 12 [130/148]\tLoss: 0.306464\n",
      "Train_Epoch : 12 [140/148]\tLoss: 0.160672\n"
     ]
    },
    {
     "name": "stderr",
     "output_type": "stream",
     "text": [
      "Epochs:  43%|████▎     | 13/30 [06:22<08:19, 29.36s/it]"
     ]
    },
    {
     "name": "stdout",
     "output_type": "stream",
     "text": [
      "[12] Validation Loss: 3.4757, Accuracy: 46.2838%, Epoch Time: 29.22s, Memory Usage: 0.17GB\n",
      "Train_Epoch : 13 [0/148]\tLoss: 0.233946\n",
      "Train_Epoch : 13 [10/148]\tLoss: 0.021400\n",
      "Train_Epoch : 13 [20/148]\tLoss: 0.599954\n",
      "Train_Epoch : 13 [30/148]\tLoss: 0.100565\n",
      "Train_Epoch : 13 [40/148]\tLoss: 0.169519\n",
      "Train_Epoch : 13 [50/148]\tLoss: 0.184585\n",
      "Train_Epoch : 13 [60/148]\tLoss: 0.151684\n",
      "Train_Epoch : 13 [70/148]\tLoss: 0.229517\n",
      "Train_Epoch : 13 [80/148]\tLoss: 0.190980\n",
      "Train_Epoch : 13 [90/148]\tLoss: 0.429176\n",
      "Train_Epoch : 13 [100/148]\tLoss: 0.376785\n",
      "Train_Epoch : 13 [110/148]\tLoss: 0.358120\n",
      "Train_Epoch : 13 [120/148]\tLoss: 0.092068\n",
      "Train_Epoch : 13 [130/148]\tLoss: 0.062335\n",
      "Train_Epoch : 13 [140/148]\tLoss: 0.181306\n"
     ]
    },
    {
     "name": "stderr",
     "output_type": "stream",
     "text": [
      "Epochs:  47%|████▋     | 14/30 [06:51<07:49, 29.37s/it]"
     ]
    },
    {
     "name": "stdout",
     "output_type": "stream",
     "text": [
      "[13] Validation Loss: 3.6428, Accuracy: 44.2568%, Epoch Time: 29.39s, Memory Usage: 0.17GB\n",
      "Train_Epoch : 14 [0/148]\tLoss: 0.148313\n",
      "Train_Epoch : 14 [10/148]\tLoss: 0.139615\n",
      "Train_Epoch : 14 [20/148]\tLoss: 0.133390\n",
      "Train_Epoch : 14 [30/148]\tLoss: 0.157805\n",
      "Train_Epoch : 14 [40/148]\tLoss: 0.160663\n",
      "Train_Epoch : 14 [50/148]\tLoss: 0.867028\n",
      "Train_Epoch : 14 [60/148]\tLoss: 0.420414\n"
     ]
    }
   ],
   "source": [
    "# wandb sweep 실행\n",
    "wandb.agent(sweep_id, function=train_sweep)"
   ]
  },
  {
   "cell_type": "code",
   "execution_count": null,
   "metadata": {},
   "outputs": [],
   "source": []
  }
 ],
 "metadata": {
  "kernelspec": {
   "display_name": "Python 3",
   "language": "python",
   "name": "python3"
  },
  "language_info": {
   "codemirror_mode": {
    "name": "ipython",
    "version": 3
   },
   "file_extension": ".py",
   "mimetype": "text/x-python",
   "name": "python",
   "nbconvert_exporter": "python",
   "pygments_lexer": "ipython3",
   "version": "3.8.10"
  }
 },
 "nbformat": 4,
 "nbformat_minor": 4
}
