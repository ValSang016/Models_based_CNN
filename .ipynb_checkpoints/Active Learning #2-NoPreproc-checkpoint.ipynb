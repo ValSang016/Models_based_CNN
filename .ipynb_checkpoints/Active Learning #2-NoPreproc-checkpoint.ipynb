{
 "cells": [
  {
   "cell_type": "code",
   "execution_count": 5,
   "metadata": {},
   "outputs": [
    {
     "name": "stdout",
     "output_type": "stream",
     "text": [
      "Requirement already satisfied: wandb in /opt/conda/lib/python3.8/site-packages (0.18.5)\n",
      "Requirement already satisfied: click!=8.0.0,>=7.1 in /opt/conda/lib/python3.8/site-packages (from wandb) (8.1.7)\n",
      "Requirement already satisfied: docker-pycreds>=0.4.0 in /opt/conda/lib/python3.8/site-packages (from wandb) (0.4.0)\n",
      "Requirement already satisfied: gitpython!=3.1.29,>=1.0.0 in /opt/conda/lib/python3.8/site-packages (from wandb) (3.1.43)\n",
      "Requirement already satisfied: platformdirs in /opt/conda/lib/python3.8/site-packages (from wandb) (4.2.2)\n",
      "Requirement already satisfied: protobuf!=4.21.0,!=5.28.0,<6,>=3.12.0 in /opt/conda/lib/python3.8/site-packages (from wandb) (3.20.3)\n",
      "Requirement already satisfied: psutil>=5.0.0 in /opt/conda/lib/python3.8/site-packages (from wandb) (5.9.8)\n",
      "Requirement already satisfied: pyyaml in /opt/conda/lib/python3.8/site-packages (from wandb) (6.0.1)\n",
      "Requirement already satisfied: requests<3,>=2.0.0 in /opt/conda/lib/python3.8/site-packages (from wandb) (2.32.2)\n",
      "Requirement already satisfied: sentry-sdk>=2.0.0 in /opt/conda/lib/python3.8/site-packages (from wandb) (2.17.0)\n",
      "Requirement already satisfied: setproctitle in /opt/conda/lib/python3.8/site-packages (from wandb) (1.3.3)\n",
      "Requirement already satisfied: setuptools in /opt/conda/lib/python3.8/site-packages (from wandb) (65.6.3)\n",
      "Requirement already satisfied: typing-extensions<5,>=4.4 in /opt/conda/lib/python3.8/site-packages (from wandb) (4.7.1)\n",
      "Requirement already satisfied: six>=1.4.0 in /opt/conda/lib/python3.8/site-packages (from docker-pycreds>=0.4.0->wandb) (1.16.0)\n",
      "Requirement already satisfied: gitdb<5,>=4.0.1 in /opt/conda/lib/python3.8/site-packages (from gitpython!=3.1.29,>=1.0.0->wandb) (4.0.11)\n",
      "Requirement already satisfied: charset-normalizer<4,>=2 in /opt/conda/lib/python3.8/site-packages (from requests<3,>=2.0.0->wandb) (3.3.2)\n",
      "Requirement already satisfied: idna<4,>=2.5 in /opt/conda/lib/python3.8/site-packages (from requests<3,>=2.0.0->wandb) (3.7)\n",
      "Requirement already satisfied: urllib3<3,>=1.21.1 in /opt/conda/lib/python3.8/site-packages (from requests<3,>=2.0.0->wandb) (1.26.20)\n",
      "Requirement already satisfied: certifi>=2017.4.17 in /opt/conda/lib/python3.8/site-packages (from requests<3,>=2.0.0->wandb) (2024.2.2)\n",
      "Requirement already satisfied: smmap<6,>=3.0.1 in /opt/conda/lib/python3.8/site-packages (from gitdb<5,>=4.0.1->gitpython!=3.1.29,>=1.0.0->wandb) (5.0.1)\n",
      "Note: you may need to restart the kernel to use updated packages.\n"
     ]
    }
   ],
   "source": [
    "pip install wandb"
   ]
  },
  {
   "cell_type": "code",
   "execution_count": 3,
   "metadata": {},
   "outputs": [
    {
     "name": "stdout",
     "output_type": "stream",
     "text": [
      "cuda:0\n"
     ]
    }
   ],
   "source": [
    "import os\n",
    "import time\n",
    "import torch\n",
    "\n",
    "import torchvision.transforms as transforms\n",
    "import torchvision.models as models\n",
    "from torch.utils.data import Dataset, DataLoader\n",
    "\n",
    "import torch.optim as optim\n",
    "import torch.nn as nn\n",
    "import torch.nn.functional as F\n",
    "from PIL import Image\n",
    "\n",
    "# import wandb\n",
    "\n",
    "### GPU Setting ###\n",
    "USE_CUDA = torch.cuda.is_available()\n",
    "DEVICE = torch.device(\"cuda:0\" if USE_CUDA else \"cpu\")\n",
    "print(DEVICE)"
   ]
  },
  {
   "cell_type": "code",
   "execution_count": 4,
   "metadata": {},
   "outputs": [
    {
     "name": "stdout",
     "output_type": "stream",
     "text": [
      "Requirement already satisfied: pip in /opt/conda/lib/python3.8/site-packages (24.3.1)\n",
      "Note: you may need to restart the kernel to use updated packages.\n"
     ]
    }
   ],
   "source": [
    "pip install --upgrade pip"
   ]
  },
  {
   "cell_type": "code",
   "execution_count": 1,
   "metadata": {},
   "outputs": [
    {
     "data": {
      "text/plain": [
       "\"#기본 베이스 코드.\\n\\n### Custom Dataset ###\\nclass CUB2011(Dataset):\\n    def __init__(self, transform, mode='train'):\\n        self.transform = transform\\n        self.mode = mode\\n        base_path = 'datasets'  # 기본 경로 설정\\n\\n        if self.mode == 'train':\\n            folder_path = os.path.join(base_path, 'train')\\n        elif self.mode == 'valid':\\n            folder_path = os.path.join(base_path, 'valid')\\n        elif self.mode == 'test':\\n            folder_path = os.path.join(base_path, 'test')\\n\\n        # 디렉토리 제외하고 파일만 리스트에 포함\\n        self.image_folder = [f for f in os.listdir(folder_path) if os.path.isfile(os.path.join(folder_path, f))]\\n\\n    def __len__(self):\\n        return len(self.image_folder)\\n\\n    def __getitem__(self, idx):\\n        img_path = self.image_folder[idx]\\n        img = Image.open(os.path.join('datasets/', self.mode, img_path)).convert('RGB')\\n        img = self.transform(img)\\n\\n        # 라벨을 이미지 파일명에서 추출 (예: 파일명이 'image_3.jpg'일 때 라벨은 3)\\n        label = img_path.split('_')[-1].split('.')[0]\\n        label = int(label)\\n        return img, label\""
      ]
     },
     "execution_count": 1,
     "metadata": {},
     "output_type": "execute_result"
    }
   ],
   "source": [
    "\"\"\"#기본 베이스 코드.\n",
    "\n",
    "### Custom Dataset ###\n",
    "class CUB2011(Dataset):\n",
    "    def __init__(self, transform, mode='train'):\n",
    "        self.transform = transform\n",
    "        self.mode = mode\n",
    "        base_path = 'datasets'  # 기본 경로 설정\n",
    "\n",
    "        if self.mode == 'train':\n",
    "            folder_path = os.path.join(base_path, 'train')\n",
    "        elif self.mode == 'valid':\n",
    "            folder_path = os.path.join(base_path, 'valid')\n",
    "        elif self.mode == 'test':\n",
    "            folder_path = os.path.join(base_path, 'test')\n",
    "\n",
    "        # 디렉토리 제외하고 파일만 리스트에 포함\n",
    "        self.image_folder = [f for f in os.listdir(folder_path) if os.path.isfile(os.path.join(folder_path, f))]\n",
    "\n",
    "    def __len__(self):\n",
    "        return len(self.image_folder)\n",
    "\n",
    "    def __getitem__(self, idx):\n",
    "        img_path = self.image_folder[idx]\n",
    "        img = Image.open(os.path.join('datasets/', self.mode, img_path)).convert('RGB')\n",
    "        img = self.transform(img)\n",
    "\n",
    "        # 라벨을 이미지 파일명에서 추출 (예: 파일명이 'image_3.jpg'일 때 라벨은 3)\n",
    "        label = img_path.split('_')[-1].split('.')[0]\n",
    "        label = int(label)\n",
    "        return img, label\"\"\""
   ]
  },
  {
   "cell_type": "code",
   "execution_count": 4,
   "metadata": {},
   "outputs": [
    {
     "name": "stdout",
     "output_type": "stream",
     "text": [
      "'CUB_200_2011_repackage_class50.zip' 파일이 'CUB_200_2011_class50' 폴더에 성공적으로 압축 해제되었습니다.\n"
     ]
    }
   ],
   "source": [
    "import zipfile\n",
    "import os\n",
    "\n",
    "# 압축 파일과 압축 해제 경로\n",
    "zip_file_path = 'CUB_200_2011_repackage_class50.zip'\n",
    "extract_to = 'CUB_200_2011_class50'\n",
    "\n",
    "# 폴더가 존재하지 않으면 생성\n",
    "os.makedirs(extract_to, exist_ok=True)\n",
    "\n",
    "# 압축 해제\n",
    "with zipfile.ZipFile(zip_file_path, 'r') as zip_ref:\n",
    "    zip_ref.extractall(extract_to)\n",
    "\n",
    "print(f\"'{zip_file_path}' 파일이 '{extract_to}' 폴더에 성공적으로 압축 해제되었습니다.\")"
   ]
  },
  {
   "cell_type": "markdown",
   "metadata": {},
   "source": [
    "# 학습 Schema 변형, 예시 데이터 증강 \n",
    "- dataset 증강"
   ]
  },
  {
   "cell_type": "code",
   "execution_count": 6,
   "metadata": {},
   "outputs": [],
   "source": [
    "### Custom Dataset ###\n",
    "class CUB2011(Dataset):\n",
    "    def __init__(self, transform, mode='train'):\n",
    "        self.transform = transform\n",
    "        self.mode = mode\n",
    "        base_path = 'datasets'  # 기본 경로 설정\n",
    "\n",
    "        if self.mode == 'train':\n",
    "            folder_path = os.path.join(base_path, 'train')\n",
    "        elif self.mode == 'valid':\n",
    "            folder_path = os.path.join(base_path, 'valid')\n",
    "        elif self.mode == 'test':\n",
    "            folder_path = os.path.join(base_path, 'test')\n",
    "\n",
    "        # 디렉토리 제외하고 파일만 리스트에 포함\n",
    "        self.image_folder = [f for f in os.listdir(folder_path) if os.path.isfile(os.path.join(folder_path, f))]\n",
    "\n",
    "    def __len__(self):\n",
    "        return len(self.image_folder)\n",
    "\n",
    "    def __getitem__(self, idx):\n",
    "        img_path = self.image_folder[idx]\n",
    "        img = Image.open(os.path.join('datasets/', self.mode, img_path)).convert('RGB')\n",
    "        img = self.transform(img)\n",
    "\n",
    "        # 라벨을 이미지 파일명에서 추출 (예: 파일명이 'image_3.jpg'일 때 라벨은 3)\n",
    "        label = img_path.split('_')[-1].split('.')[0]\n",
    "        label = int(label)\n",
    "        return img, label"
   ]
  },
  {
   "cell_type": "markdown",
   "metadata": {},
   "source": [
    "### Dataset 증강\n",
    "- 크기 448 by 448 고정\n",
    "- 무작위 회전\n",
    "- 무작위 크롭\n",
    "- 좌우 반전"
   ]
  },
  {
   "cell_type": "code",
   "execution_count": 7,
   "metadata": {},
   "outputs": [],
   "source": [
    "from torch.utils.data import ConcatDataset, DataLoader\n",
    "from torchvision import transforms\n",
    "\n",
    "# 데이터 변환 정의\n",
    "transforms_train = transforms.Compose([\n",
    "    transforms.Resize((448, 448)),              # 크기 조정\n",
    "    transforms.RandomRotation(15),              # 무작위 회전\n",
    "    transforms.RandomResizedCrop(448, scale=(0.8, 1.0)),  # 무작위 크롭\n",
    "    transforms.RandomHorizontalFlip(p=0.5),     # 좌우 반전\n",
    "    transforms.ToTensor(),                      # 텐서 변환\n",
    "])\n",
    "\n",
    "transforms_valtest = transforms.Compose([\n",
    "    transforms.Resize((448, 448)),              # 크기 조정\n",
    "    transforms.ToTensor(),                      # 텐서 변환\n",
    "])\n"
   ]
  },
  {
   "cell_type": "code",
   "execution_count": 8,
   "metadata": {},
   "outputs": [
    {
     "name": "stdout",
     "output_type": "stream",
     "text": [
      "Num of each dataset: 4720 296 298\n",
      "Loaded combined dataloader\n"
     ]
    }
   ],
   "source": [
    "from torch.utils.data import ConcatDataset, DataLoader\n",
    "\n",
    "# 기본 Train 데이터셋\n",
    "org_train_set = CUB2011(mode='train', transform=transforms_valtest)  # 기본 크기 조정만 적용\n",
    "\n",
    "# 증강된 Train 데이터셋\n",
    "transformed_train_set = CUB2011(mode='train', transform=transforms_train)\n",
    "\n",
    "# 기본 데이터셋과 증강 데이터셋을 결합\n",
    "train_set = ConcatDataset([org_train_set, transformed_train_set])\n",
    "\n",
    "# Validation 및 Test 데이터셋\n",
    "val_set = CUB2011(mode='valid', transform=transforms_valtest)\n",
    "test_set = CUB2011(mode='test', transform=transforms_valtest)\n",
    "\n",
    "# 데이터셋 크기 확인\n",
    "print('Num of each dataset:', len(train_set), len(val_set), len(test_set))\n",
    "\n",
    "print(\"Loaded combined dataloader\")"
   ]
  },
  {
   "cell_type": "code",
   "execution_count": 9,
   "metadata": {},
   "outputs": [],
   "source": [
    "#Model List 선정\n",
    "\"\"\"\n",
    "1. EfficientNet_V2_M_Weights.IMAGENET1K_V1\n",
    "2. ResNet50_Weights.IMAGENET1K_V2 : parameter수가 2배 차이나지만, 성능은 6퍼센트 높다\n",
    "3. RegNet_Y_1_6GF_Weights_IMAGENET1K_V2 : ResNet18 parameter 수와 같은데 성능이 6퍼센트 높다.\n",
    "4. ConvNext_Tiny_Weights.IMAGENET1K_V1 \n",
    "\"\"\"\n",
    "model_names = {\n",
    "    \"EfficientNet_V2_M\": models.efficientnet_v2_m,\n",
    "    \"ResNet50\": models.resnet50,\n",
    "    \"RegNet_Y_1_6GF\": models.regnet_y_1_6gf,\n",
    "    \"ConvNeXt_Tiny\": models.convnext_tiny\n",
    "}"
   ]
  },
  {
   "cell_type": "code",
   "execution_count": 10,
   "metadata": {},
   "outputs": [],
   "source": [
    "import wandb\n",
    "\n",
    "### Train/Evaluation with wandb logging ###\n",
    "def train(model, train_loader, optimizer, epoch):\n",
    "    model.train()\n",
    "    for i, (image, target) in enumerate(train_loader):\n",
    "        image, target = image.to(DEVICE), target.to(DEVICE)\n",
    "        output = model(image)\n",
    "        optimizer.zero_grad()\n",
    "        train_loss = F.cross_entropy(output, target).to(DEVICE)\n",
    "        train_loss.backward()\n",
    "        optimizer.step()\n",
    "\n",
    "        # 매 10번째 배치마다 로그 남기기\n",
    "        if i % 10 == 0:\n",
    "            print(f'Train Epoch : {epoch} [{i}/{len(train_loader)}]\\tLoss: {train_loss.item(): .6f}')\n",
    "            wandb.log({\"train_loss\": train_loss.item(), \"epoch\": epoch})\n",
    "    return train_loss\n",
    "\n",
    "def evaluate(model, val_loader):\n",
    "    model.eval()\n",
    "    eval_loss = 0\n",
    "    correct = 0\n",
    "    with torch.no_grad():\n",
    "        for i, (image, target) in enumerate(val_loader):\n",
    "            image, target = image.to(DEVICE), target.to(DEVICE)\n",
    "            output = model(image)\n",
    "            eval_loss += F.cross_entropy(output, target, reduction= 'sum').item()\n",
    "            pred = output.argmax(1, keepdim=True)\n",
    "            correct += pred.eq(target.view_as(pred)).sum().item()\n",
    "\n",
    "    eval_loss /= len(val_loader.dataset)\n",
    "    eval_accuracy = 100 * correct / len(val_loader.dataset)\n",
    "\n",
    "    # validation 결과 wandb에 기록\n",
    "    wandb.log({\"val_loss\": eval_loss, \"val_accuracy\": eval_accuracy})\n",
    "    return eval_loss, eval_accuracy"
   ]
  },
  {
   "cell_type": "code",
   "execution_count": 15,
   "metadata": {},
   "outputs": [
    {
     "name": "stdout",
     "output_type": "stream",
     "text": [
      "Create sweep with ID: vius3gnb\n",
      "Sweep URL: https://wandb.ai/empe8339-gachon-university/model-comparison/sweeps/vius3gnb\n"
     ]
    }
   ],
   "source": [
    "# 하이퍼파라미터 스윕 설정\n",
    "sweep_config = {\n",
    "    'name' : 'No-Preprocess',\n",
    "    'method': 'grid',\n",
    "    'metric': {\n",
    "        'name': 'val_accuracy',  # 최적화할 메트릭\n",
    "        'goal': 'maximize'  # 성능을 최대화하려는 목표\n",
    "    },\n",
    "    'parameters': {\n",
    "        'model_name': {\n",
    "            'values': list(model_names.keys())\n",
    "        },\n",
    "        'learning_rate': {\n",
    "            'values': [0.01, 0.001, 0.0001]  # 실험할 learning rate\n",
    "        },\n",
    "        'epochs': {\n",
    "            'value': 50\n",
    "        },\n",
    "        'batch_size': {\n",
    "            'values': [16, 32, 64]  # 실험할 배치 사이즈\n",
    "        },\n",
    "        'optimizer': {\n",
    "            'values': ['sgd', 'rmsprop', 'adam']  # 사용할 optimizer\n",
    "        }\n",
    "    }\n",
    "}\n",
    "\n",
    "# Sweep 생성\n",
    "sweep_id = wandb.sweep(sweep_config, project=\"model-comparison\")"
   ]
  },
  {
   "cell_type": "code",
   "execution_count": 16,
   "metadata": {},
   "outputs": [],
   "source": [
    "# 학습 및 평가 함수\n",
    "def train_and_evaluate(config=None):\n",
    "    # wandb config 설정\n",
    "    with wandb.init(config=config):\n",
    "        config = wandb.config\n",
    "\n",
    "        # 모델 로드\n",
    "        print(f\"\")\n",
    "        model_func = model_names[config.model_name]\n",
    "        model = model_func(pretrained=True)\n",
    "        \n",
    "        # Transfer learning: 마지막 레이어 수정\n",
    "        if hasattr(model, 'fc'):\n",
    "            num_features = model.fc.in_features\n",
    "            model.fc = nn.Linear(num_features, 50)\n",
    "        else:\n",
    "            num_features = model.classifier[1].in_features\n",
    "            model.classifier[1] = nn.Linear(num_features, 50)\n",
    "\n",
    "        # 모델 파라미터 설정\n",
    "        params_to_update = []\n",
    "        for param_name, param in model.named_parameters():\n",
    "            if 'fc' in param_name or 'classifier.1' in param_name:\n",
    "                param.requires_grad = True\n",
    "                params_to_update.append(param)\n",
    "            else:\n",
    "                param.requires_grad = False\n",
    "\n",
    "        model.to(DEVICE)\n",
    "        \n",
    "        if Preprocessing is True :\n",
    "            train_loader = DataLoader(train_set, batch_size=config.batch_size, shuffle=True)\n",
    "        else :\n",
    "            train_loader = DataLoader(train_set, batch_size=config.batch_size, shuffle=True)\n",
    "\n",
    "        val_loader = DataLoader(val_set, batch_size=config.batch_size, shuffle=False)\n",
    "        test_loader = DataLoader(test_set, batch_size=config.batch_size, shuffle=False)\n",
    "\n",
    "        # 옵티마이저 정의\n",
    "        if config.optimizer == 'adam':\n",
    "            optimizer = optim.Adam(params_to_update, lr=config.learning_rate)\n",
    "        elif config.optimizer == 'sgd':\n",
    "            optimizer = optim.SGD(params_to_update, lr=config.learning_rate)\n",
    "        elif config.optimizer == 'rmsprop':\n",
    "            optimizer = optim.RMSprop(params_to_update, lr=config.learning_rate)\n",
    "        \n",
    "        best_val_accuracy = 0\n",
    "        for epoch in range(config.epochs):\n",
    "            train_loss = train(model, train_loader, optimizer, epoch)\n",
    "            val_loss, val_accuracy = evaluate(model, val_loader)\n",
    "\n",
    "            # 최고 성능 모델 저장\n",
    "            if val_accuracy > best_val_accuracy:\n",
    "                best_val_accuracy = val_accuracy\n",
    "                torch.save(model.state_dict(), f\"./best_model_{config.model_name}.pth\")\n",
    "                print(f'Best model saved for {config.model_name} with accuracy: {best_val_accuracy:.4f}')\n",
    "\n",
    "            # Log epoch results\n",
    "            wandb.log({\"best_val_accuracy\": best_val_accuracy, \"val_loss\": val_loss, \"epoch\": epoch})\n",
    "\n",
    "        # 최종 테스트 평가\n",
    "        test_loss, test_accuracy = evaluate(model, test_loader)\n",
    "        print(f'[FINAL] {config.model_name} Test Loss: {test_loss:.4f}, Accuracy: {test_accuracy:.4f}')\n",
    "        wandb.log({\"test_loss\": test_loss, \"test_accuracy\": test_accuracy})"
   ]
  },
  {
   "cell_type": "code",
   "execution_count": null,
   "metadata": {},
   "outputs": [
    {
     "name": "stderr",
     "output_type": "stream",
     "text": [
      "\u001b[34m\u001b[1mwandb\u001b[0m: Agent Starting Run: 2247b359 with config:\n",
      "\u001b[34m\u001b[1mwandb\u001b[0m: \tbatch_size: 16\n",
      "\u001b[34m\u001b[1mwandb\u001b[0m: \tepochs: 50\n",
      "\u001b[34m\u001b[1mwandb\u001b[0m: \tlearning_rate: 0.01\n",
      "\u001b[34m\u001b[1mwandb\u001b[0m: \tmodel_name: EfficientNet_V2_M\n",
      "\u001b[34m\u001b[1mwandb\u001b[0m: \toptimizer: sgd\n"
     ]
    },
    {
     "data": {
      "text/html": [
       "Tracking run with wandb version 0.18.5"
      ],
      "text/plain": [
       "<IPython.core.display.HTML object>"
      ]
     },
     "metadata": {},
     "output_type": "display_data"
    },
    {
     "data": {
      "text/html": [
       "Run data is saved locally in <code>/home/jovyan/wandb/run-20241028_224855-2247b359</code>"
      ],
      "text/plain": [
       "<IPython.core.display.HTML object>"
      ]
     },
     "metadata": {},
     "output_type": "display_data"
    },
    {
     "data": {
      "text/html": [
       "Syncing run <strong><a href='https://wandb.ai/empe8339-gachon-university/model-comparison/runs/2247b359' target=\"_blank\">zany-sweep-1</a></strong> to <a href='https://wandb.ai/empe8339-gachon-university/model-comparison' target=\"_blank\">Weights & Biases</a> (<a href='https://wandb.me/run' target=\"_blank\">docs</a>)<br/>Sweep page: <a href='https://wandb.ai/empe8339-gachon-university/model-comparison/sweeps/vius3gnb' target=\"_blank\">https://wandb.ai/empe8339-gachon-university/model-comparison/sweeps/vius3gnb</a>"
      ],
      "text/plain": [
       "<IPython.core.display.HTML object>"
      ]
     },
     "metadata": {},
     "output_type": "display_data"
    },
    {
     "data": {
      "text/html": [
       " View project at <a href='https://wandb.ai/empe8339-gachon-university/model-comparison' target=\"_blank\">https://wandb.ai/empe8339-gachon-university/model-comparison</a>"
      ],
      "text/plain": [
       "<IPython.core.display.HTML object>"
      ]
     },
     "metadata": {},
     "output_type": "display_data"
    },
    {
     "data": {
      "text/html": [
       " View sweep at <a href='https://wandb.ai/empe8339-gachon-university/model-comparison/sweeps/vius3gnb' target=\"_blank\">https://wandb.ai/empe8339-gachon-university/model-comparison/sweeps/vius3gnb</a>"
      ],
      "text/plain": [
       "<IPython.core.display.HTML object>"
      ]
     },
     "metadata": {},
     "output_type": "display_data"
    },
    {
     "data": {
      "text/html": [
       " View run at <a href='https://wandb.ai/empe8339-gachon-university/model-comparison/runs/2247b359' target=\"_blank\">https://wandb.ai/empe8339-gachon-university/model-comparison/runs/2247b359</a>"
      ],
      "text/plain": [
       "<IPython.core.display.HTML object>"
      ]
     },
     "metadata": {},
     "output_type": "display_data"
    },
    {
     "name": "stdout",
     "output_type": "stream",
     "text": [
      "\n",
      "Train Epoch : 0 [0/295]\tLoss:  3.920380\n",
      "Train Epoch : 0 [10/295]\tLoss:  3.876525\n",
      "Train Epoch : 0 [20/295]\tLoss:  3.912771\n",
      "Train Epoch : 0 [30/295]\tLoss:  3.625217\n"
     ]
    }
   ],
   "source": [
    "# Sweep agent \n",
    "Preprocessing = False\n",
    "\n",
    "wandb.agent(sweep_id, train_and_evaluate)"
   ]
  },
  {
   "cell_type": "code",
   "execution_count": null,
   "metadata": {},
   "outputs": [],
   "source": []
  }
 ],
 "metadata": {
  "kernelspec": {
   "display_name": "Python 3",
   "language": "python",
   "name": "python3"
  },
  "language_info": {
   "codemirror_mode": {
    "name": "ipython",
    "version": 3
   },
   "file_extension": ".py",
   "mimetype": "text/x-python",
   "name": "python",
   "nbconvert_exporter": "python",
   "pygments_lexer": "ipython3",
   "version": "3.8.10"
  }
 },
 "nbformat": 4,
 "nbformat_minor": 4
}
